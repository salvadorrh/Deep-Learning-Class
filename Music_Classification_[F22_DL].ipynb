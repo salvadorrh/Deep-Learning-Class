{
  "nbformat": 4,
  "nbformat_minor": 0,
  "metadata": {
    "colab": {
      "provenance": [],
      "collapsed_sections": []
    },
    "kernelspec": {
      "name": "python3",
      "display_name": "Python 3"
    },
    "language_info": {
      "name": "python"
    }
  },
  "cells": [
    {
      "cell_type": "markdown",
      "source": [
        "## Before you start\n",
        "Make a copy of this Colab by clicking on File > Save a Copy in Drive\n",
        "Input your student id, first name, and last name"
      ],
      "metadata": {
        "id": "VqEEMulen8lr"
      }
    },
    {
      "cell_type": "code",
      "source": [
        "#@title  { run: \"auto\", display-mode: \"form\" }\n",
        "student_id = \"80683116\" #@param {type:\"string\"}\n",
        "first_name = \"Salvador\" #@param {type:\"string\"}\n",
        "last_name = \"Robles Herrera\" #@param {type:\"string\"}"
      ],
      "metadata": {
        "id": "0k27GPzIoBsn"
      },
      "execution_count": 1,
      "outputs": []
    },
    {
      "cell_type": "markdown",
      "source": [
        "## Download NES Music Dataset"
      ],
      "metadata": {
        "id": "A0zHPIADAz5S"
      }
    },
    {
      "cell_type": "code",
      "source": [
        "from urllib import request\n",
        "\n",
        "# MIDI are music files that look like Piano titles. Showsing where one note starts\n",
        "# and when a note ends.\n",
        "\n",
        "nes_midi_url = \"http://deepyeti.ucsd.edu/cdonahue/nesmdb/nesmdb_midi.tar.gz\"\n",
        "nes_midi_tar_path = \"nesmdb_midi.tar.gz\"\n",
        "\n",
        "nes_exprsco_url = \"http://deepyeti.ucsd.edu/cdonahue/nesmdb/nesmdb24_exprsco.tar.gz\"\n",
        "nes_exprsco_tar_path = \"nesmdb24_exprsco.tar.gz\"\n",
        "\n",
        "def download_ds(url, store_path):\n",
        "  response = request.urlretrieve(url, store_path)\n",
        "\n",
        "\n",
        "download_ds(nes_midi_url, nes_midi_tar_path)\n",
        "download_ds(nes_exprsco_url, nes_exprsco_tar_path)\n",
        "\n",
        "midi_train_path = \"nesmdb_midi/train/\"\n",
        "exprsco_train_path = \"nesmdb24_exprsco/train/\"\n"
      ],
      "metadata": {
        "id": "NB2VapsrBazm"
      },
      "execution_count": 2,
      "outputs": []
    },
    {
      "cell_type": "markdown",
      "source": [
        "## Decompress "
      ],
      "metadata": {
        "id": "NP0MOZCLB7rb"
      }
    },
    {
      "cell_type": "code",
      "execution_count": 3,
      "metadata": {
        "id": "vvwEzmgSAvaY"
      },
      "outputs": [],
      "source": [
        "import tarfile\n",
        "\n",
        "def decompress(path):\n",
        "  tar = tarfile.open(path)\n",
        "  tar.extractall()\n",
        "  tar.close()\n",
        "\n",
        "decompress(nes_midi_tar_path)\n",
        "decompress(nes_exprsco_tar_path)"
      ]
    },
    {
      "cell_type": "markdown",
      "source": [
        "## Split Dataset "
      ],
      "metadata": {
        "id": "_PhhmCieG1zy"
      }
    },
    {
      "cell_type": "code",
      "source": [
        "import os\n",
        "from collections import defaultdict\n",
        "\n",
        "\"\"\"\n",
        "This is listing a specific game matched with the songs associated with them.\n",
        "Each game has a set of songs that appear in that game.\n",
        "\"\"\"\n",
        "\n",
        "def get_video_game_dataset(num_top_games):\n",
        "  dir_list = os.listdir(midi_train_path)\n",
        "  \n",
        "  game_tracks = defaultdict(list)\n",
        "  for mid_file in dir_list:\n",
        "    game_id = mid_file[:3]\n",
        "    game_tracks[game_id].append(mid_file)\n",
        "    \n",
        "  game_tracks = {k: v for k, v in sorted(game_tracks.items(), key=lambda item: len(item[1]), reverse=True)}\n",
        "\n",
        "  key_iterator = iter(game_tracks)\n",
        "\n",
        "  game_tracks_sub = {}\n",
        "  for _ in range(num_top_games):\n",
        "    video_game = next(key_iterator)  \n",
        "    game_tracks_sub[video_game] = game_tracks[video_game]\n",
        "\n",
        "  return game_tracks_sub\n",
        "\n",
        "\n",
        "num_top_games = 10\n",
        "game_tracks = get_video_game_dataset(num_top_games)\n",
        "  "
      ],
      "metadata": {
        "id": "eT8EHx9RDtVp"
      },
      "execution_count": 4,
      "outputs": []
    },
    {
      "cell_type": "markdown",
      "source": [
        "## Play some tracks"
      ],
      "metadata": {
        "id": "R2HlxrEzHRC4"
      }
    },
    {
      "cell_type": "markdown",
      "source": [
        "### Install Dependencies"
      ],
      "metadata": {
        "id": "xARIyCBMHjRX"
      }
    },
    {
      "cell_type": "code",
      "source": [
        "\"\"\"\n",
        "Magenta is created by Google. To make music and art with Machine Learning\n",
        "\"\"\"\n",
        "\n",
        "!pip install -qU magenta"
      ],
      "metadata": {
        "id": "nfQasYlVHlT0"
      },
      "execution_count": 5,
      "outputs": []
    },
    {
      "cell_type": "markdown",
      "source": [
        "### Play some tracks"
      ],
      "metadata": {
        "id": "z4fQhdbpH3C1"
      }
    },
    {
      "cell_type": "code",
      "source": [
        "import note_seq\n",
        "\n",
        "\"\"\"\n",
        "Note sequence is how you want to represent our input.\n",
        "Where you see songs starting and ending in a sequence. Separated by musical instruments\n",
        "\"\"\"\n",
        "\n",
        "games_sub = [\"135\", \"119\", \"091\", \"229\"] # Note that this keys are from the Top 10 videogames with more songs associated with them\n",
        "for game_id in games_sub:\n",
        "  tracks = game_tracks[game_id]\n",
        "  first_track = note_seq.midi_file_to_note_sequence(midi_train_path + \"/\" + tracks[0])\n",
        "  print(f'Track Name: {tracks[0]}')\n",
        "  note_seq.play_sequence(first_track)"
      ],
      "metadata": {
        "colab": {
          "base_uri": "https://localhost:8080/",
          "height": 477
        },
        "id": "n5pT4NNZHQk4",
        "outputId": "2521153f-f112-4a88-9269-a696277ce3b5"
      },
      "execution_count": 6,
      "outputs": [
        {
          "output_type": "stream",
          "name": "stderr",
          "text": [
            "/usr/local/lib/python3.7/dist-packages/librosa/util/decorators.py:9: NumbaDeprecationWarning: An import was requested from a module that has moved location.\n",
            "Import requested from: 'numba.decorators', please update to use 'numba.core.decorators' or pin to Numba version 0.48.0. This alias will not be present in Numba version 0.50.0.\n",
            "  from numba.decorators import jit as optional_jit\n",
            "/usr/local/lib/python3.7/dist-packages/librosa/util/decorators.py:9: NumbaDeprecationWarning: An import was requested from a module that has moved location.\n",
            "Import of 'jit' requested from: 'numba.decorators', please update to use 'numba.core.decorators' or pin to Numba version 0.48.0. This alias will not be present in Numba version 0.50.0.\n",
            "  from numba.decorators import jit as optional_jit\n",
            "/usr/local/lib/python3.7/dist-packages/resampy/interpn.py:114: NumbaWarning: The TBB threading layer requires TBB version 2019.5 or later i.e., TBB_INTERFACE_VERSION >= 11005. Found TBB_INTERFACE_VERSION = 9107. The TBB threading layer is disabled.\n",
            "  _resample_loop_p(x, t_out, interp_win, interp_delta, num_table, scale, y)\n"
          ]
        },
        {
          "output_type": "stream",
          "name": "stdout",
          "text": [
            "Track Name: 135_GanbareGoemonGaiden2_TenkanoZaih__38_39TowerofBabel.mid\n"
          ]
        },
        {
          "output_type": "display_data",
          "data": {
            "text/plain": [
              "<IPython.core.display.HTML object>"
            ],
            "text/html": [
              "<div id=\"id_1\"> </div>"
            ]
          },
          "metadata": {}
        },
        {
          "output_type": "stream",
          "name": "stdout",
          "text": [
            "Track Name: 119_FinalFantasyIII_04_05CrystalRoom.mid\n"
          ]
        },
        {
          "output_type": "display_data",
          "data": {
            "text/plain": [
              "<IPython.core.display.HTML object>"
            ],
            "text/html": [
              "<div id=\"id_2\"> </div>"
            ]
          },
          "metadata": {}
        },
        {
          "output_type": "stream",
          "name": "stdout",
          "text": [
            "Track Name: 091_DragonWarriorIV_14_15LevelUp.mid\n"
          ]
        },
        {
          "output_type": "display_data",
          "data": {
            "text/plain": [
              "<IPython.core.display.HTML object>"
            ],
            "text/html": [
              "<div id=\"id_3\"> </div>"
            ]
          },
          "metadata": {}
        },
        {
          "output_type": "stream",
          "name": "stdout",
          "text": [
            "Track Name: 229_MegaMan6_05_06GameStart.mid\n"
          ]
        },
        {
          "output_type": "display_data",
          "data": {
            "text/plain": [
              "<IPython.core.display.HTML object>"
            ],
            "text/html": [
              "<div id=\"id_4\"> </div>"
            ]
          },
          "metadata": {}
        }
      ]
    },
    {
      "cell_type": "code",
      "source": [
        "# Top 10 videogames with songs asssociates\n",
        "print(game_tracks)\n",
        "# There are only 10 keys. Which are the top 10 games with more songs.\n",
        "print(game_tracks.keys())"
      ],
      "metadata": {
        "colab": {
          "base_uri": "https://localhost:8080/"
        },
        "id": "lYOR4tEsw5dz",
        "outputId": "cfc4b143-9a1b-4922-cf0f-16a837c494c6"
      },
      "execution_count": 7,
      "outputs": [
        {
          "output_type": "stream",
          "name": "stdout",
          "text": [
            "{'135': ['135_GanbareGoemonGaiden2_TenkanoZaih__38_39TowerofBabel.mid', '135_GanbareGoemonGaiden2_TenkanoZaih__91_92FinalBoss.mid', '135_GanbareGoemonGaiden2_TenkanoZaih__44_45ShipTravel.mid', '135_GanbareGoemonGaiden2_TenkanoZaih__29_30TempleSchool.mid', '135_GanbareGoemonGaiden2_TenkanoZaih__07_08Shop.mid', '135_GanbareGoemonGaiden2_TenkanoZaih__63_64AntarcticResearchVesselTravel.mid', '135_GanbareGoemonGaiden2_TenkanoZaih__77_78TobunbeeTravel.mid', '135_GanbareGoemonGaiden2_TenkanoZaih__05_06TownofOedo.mid', '135_GanbareGoemonGaiden2_TenkanoZaih__59_60Submarine.mid', '135_GanbareGoemonGaiden2_TenkanoZaih__50_51NotenOndoInstructionPart2.mid', '135_GanbareGoemonGaiden2_TenkanoZaih__23_24Village.mid', '135_GanbareGoemonGaiden2_TenkanoZaih__84_85BridgetotheMoon.mid', '135_GanbareGoemonGaiden2_TenkanoZaih__46_47DevilsForest.mid', '135_GanbareGoemonGaiden2_TenkanoZaih__71_72KuimonmonCityPayaKingdom.mid', '135_GanbareGoemonGaiden2_TenkanoZaih__10_11Dungeon.mid', '135_GanbareGoemonGaiden2_TenkanoZaih__22_23LuponAppearsnointroLargeMap.mid', '135_GanbareGoemonGaiden2_TenkanoZaih__81_82BeeWhistleLargeMap.mid', '135_GanbareGoemonGaiden2_TenkanoZaih__83_84SuspiciousCave.mid', '135_GanbareGoemonGaiden2_TenkanoZaih__20_21LuponAppearsLargeMap.mid', '135_GanbareGoemonGaiden2_TenkanoZaih__26_27LuponsPlan.mid', '135_GanbareGoemonGaiden2_TenkanoZaih__87_88SupriseEmergency.mid', '135_GanbareGoemonGaiden2_TenkanoZaih__21_22LuponAppearsnointro.mid', '135_GanbareGoemonGaiden2_TenkanoZaih__76_77AbovetheClouds.mid', '135_GanbareGoemonGaiden2_TenkanoZaih__72_73KuimonCityCastle.mid', '135_GanbareGoemonGaiden2_TenkanoZaih__16_17FoundKorezokunDungeon.mid', '135_GanbareGoemonGaiden2_TenkanoZaih__43_44CaseClosed.mid', '135_GanbareGoemonGaiden2_TenkanoZaih__37_38HotSprings.mid', '135_GanbareGoemonGaiden2_TenkanoZaih__06_07PrivateHouse.mid', '135_GanbareGoemonGaiden2_TenkanoZaih__28_29DondenTaikoShop.mid', '135_GanbareGoemonGaiden2_TenkanoZaih__02_03BeginningBeginning.mid', '135_GanbareGoemonGaiden2_TenkanoZaih__48_49AHousewithaProblem.mid', '135_GanbareGoemonGaiden2_TenkanoZaih__75_76PapilaTravel.mid', '135_GanbareGoemonGaiden2_TenkanoZaih__15_16ItsMorning.mid', '135_GanbareGoemonGaiden2_TenkanoZaih__61_623DMazeFortuneTellingHut.mid', '135_GanbareGoemonGaiden2_TenkanoZaih__49_50NotenOndoInstructionPart1.mid', '135_GanbareGoemonGaiden2_TenkanoZaih__34_35BossBattle.mid', '135_GanbareGoemonGaiden2_TenkanoZaih__55_56InsidetheUFO.mid', '135_GanbareGoemonGaiden2_TenkanoZaih__32_33BossAppearance.mid', '135_GanbareGoemonGaiden2_TenkanoZaih__08_09DepartmentStoreBellCouponShowroom.mid', '135_GanbareGoemonGaiden2_TenkanoZaih__12_13Battlenointro.mid', '135_GanbareGoemonGaiden2_TenkanoZaih__14_15LevelUp.mid', '135_GanbareGoemonGaiden2_TenkanoZaih__09_10ResurrectionShop.mid', '135_GanbareGoemonGaiden2_TenkanoZaih__80_81BeeWhistle.mid', '135_GanbareGoemonGaiden2_TenkanoZaih__70_71AProblemInsidePayaCastle.mid', '135_GanbareGoemonGaiden2_TenkanoZaih__89_90HopeMountain.mid', '135_GanbareGoemonGaiden2_TenkanoZaih__58_59YakyukenOutcome.mid', '135_GanbareGoemonGaiden2_TenkanoZaih__62_63PrincessYurisRoom.mid', '135_GanbareGoemonGaiden2_TenkanoZaih__25_26Pyramid.mid', '135_GanbareGoemonGaiden2_TenkanoZaih__33_34BossAppearancenointro.mid', '135_GanbareGoemonGaiden2_TenkanoZaih__79_80HadukiAppears.mid', '135_GanbareGoemonGaiden2_TenkanoZaih__01_02OpeningDemo.mid', '135_GanbareGoemonGaiden2_TenkanoZaih__54_55SurpriseUFO.mid', '135_GanbareGoemonGaiden2_TenkanoZaih__73_74SugarPalace.mid', '135_GanbareGoemonGaiden2_TenkanoZaih__92_93FinalBossnointro.mid', '135_GanbareGoemonGaiden2_TenkanoZaih__86_87RabirabiVillage.mid', '135_GanbareGoemonGaiden2_TenkanoZaih__82_83Sidejob.mid', '135_GanbareGoemonGaiden2_TenkanoZaih__65_66AntarcticMap.mid', '135_GanbareGoemonGaiden2_TenkanoZaih__27_28YorozuVillage.mid', '135_GanbareGoemonGaiden2_TenkanoZaih__42_43Subgame.mid', '135_GanbareGoemonGaiden2_TenkanoZaih__30_31GhostsAppearTempleSchool.mid', '135_GanbareGoemonGaiden2_TenkanoZaih__68_69BurningSambaAntarcticMap.mid', '135_GanbareGoemonGaiden2_TenkanoZaih__13_14BattleClear.mid', '135_GanbareGoemonGaiden2_TenkanoZaih__56_57WarningEmergency.mid', '135_GanbareGoemonGaiden2_TenkanoZaih__36_37PleaseHelpMe.mid', '135_GanbareGoemonGaiden2_TenkanoZaih__57_58Emergency.mid', '135_GanbareGoemonGaiden2_TenkanoZaih__74_75PapilaSummon.mid', '135_GanbareGoemonGaiden2_TenkanoZaih__24_25CamelTravel.mid', '135_GanbareGoemonGaiden2_TenkanoZaih__88_89UFOTravel.mid', '135_GanbareGoemonGaiden2_TenkanoZaih__04_05WorldThiefTournamentingame.mid', '135_GanbareGoemonGaiden2_TenkanoZaih__78_79MagmaSwampCave.mid', '135_GanbareGoemonGaiden2_TenkanoZaih__51_52NotenOndoInstructionPart3.mid', '135_GanbareGoemonGaiden2_TenkanoZaih__95_96StaffRoll.mid', '135_GanbareGoemonGaiden2_TenkanoZaih__64_65HierunPortSappuiVillage.mid', '135_GanbareGoemonGaiden2_TenkanoZaih__96_97GameOver.mid', '135_GanbareGoemonGaiden2_TenkanoZaih__94_95EpiloguePart2.mid', '135_GanbareGoemonGaiden2_TenkanoZaih__11_12Battle.mid', '135_GanbareGoemonGaiden2_TenkanoZaih__40_41SimonAppears.mid', '135_GanbareGoemonGaiden2_TenkanoZaih__17_18WorldThiefTournamentPlayerIntroduction.mid', '135_GanbareGoemonGaiden2_TenkanoZaih__53_54UFO.mid', '135_GanbareGoemonGaiden2_TenkanoZaih__85_86MoonMap.mid', '135_GanbareGoemonGaiden2_TenkanoZaih__98_99Fanfare.mid', '135_GanbareGoemonGaiden2_TenkanoZaih__00_01NameInputScreen.mid', '135_GanbareGoemonGaiden2_TenkanoZaih__39_40WesternHouseForeignShip.mid', '135_GanbareGoemonGaiden2_TenkanoZaih__90_91WishJewel.mid', '135_GanbareGoemonGaiden2_TenkanoZaih__35_36BossBattlenointro.mid', '135_GanbareGoemonGaiden2_TenkanoZaih__67_68BurningSamba.mid', '135_GanbareGoemonGaiden2_TenkanoZaih__18_19LargeMap.mid', '135_GanbareGoemonGaiden2_TenkanoZaih__41_42TownHarbor.mid', '135_GanbareGoemonGaiden2_TenkanoZaih__31_32SpiritMediumGhostsRoom.mid', '135_GanbareGoemonGaiden2_TenkanoZaih__97_98GradiusCoinSound.mid', '135_GanbareGoemonGaiden2_TenkanoZaih__03_04WorldThiefTournament.mid', '135_GanbareGoemonGaiden2_TenkanoZaih__66_67IcePalaceFrostPillarHouse.mid', '135_GanbareGoemonGaiden2_TenkanoZaih__60_61LandofOo.mid', '135_GanbareGoemonGaiden2_TenkanoZaih__19_20LuponAppears.mid', '135_GanbareGoemonGaiden2_TenkanoZaih__47_48AVillagewithaProblem.mid', '135_GanbareGoemonGaiden2_TenkanoZaih__52_53NotenOndo.mid', '135_GanbareGoemonGaiden2_TenkanoZaih__69_70UndergroundMap.mid', '135_GanbareGoemonGaiden2_TenkanoZaih__93_94EpiloguePart1.mid', '135_GanbareGoemonGaiden2_TenkanoZaih__45_46PosanVillageMinatoVillage.mid'], '119': ['119_FinalFantasyIII_04_05CrystalRoom.mid', '119_FinalFantasyIII_15_16LivingForest.mid', '119_FinalFantasyIII_07_08EternalWind.mid', '119_FinalFantasyIII_43_44DeepUnderTheWater.mid', '119_FinalFantasyIII_03_04Victory.mid', '119_FinalFantasyIII_19_20TowerofOwen.mid', '119_FinalFantasyIII_40_41GoodOlFellows.mid', '119_FinalFantasyIII_44_45BeneathTheHorizon.mid', '119_FinalFantasyIII_09_10TheDungeon.mid', '119_FinalFantasyIII_48_49TheInvincible.mid', '119_FinalFantasyIII_50_51TheCrystalTower.mid', '119_FinalFantasyIII_24_25DangerousShortMusic3.mid', '119_FinalFantasyIII_49_50ForbiddenLand.mid', '119_FinalFantasyIII_33_34SwiftTwist.mid', '119_FinalFantasyIII_30_31TownofWater.mid', '119_FinalFantasyIII_27_28GoAboveTheClouds.mid', '119_FinalFantasyIII_37_38ADancersDance.mid', '119_FinalFantasyIII_25_26Battle2.mid', '119_FinalFantasyIII_45_46LetMeKnowTheTruth.mid', '119_FinalFantasyIII_47_48GoodMorning.mid', '119_FinalFantasyIII_10_11ReturnofTheWarrior.mid', '119_FinalFantasyIII_32_33LetsPlayPianoAgain.mid', '119_FinalFantasyIII_17_18Chocobos.mid', '119_FinalFantasyIII_36_37AComradeJoins.mid', '119_FinalFantasyIII_57_58TheEverlastingWorld3.mid', '119_FinalFantasyIII_29_30EliatheMaidenofWater.mid', '119_FinalFantasyIII_31_32LetsPlayPiano.mid', '119_FinalFantasyIII_08_09JinnTheFire.mid', '119_FinalFantasyIII_02_03Battle1.mid', '119_FinalFantasyIII_20_21VegiesofGeasal.mid', '119_FinalFantasyIII_58_59ThisisTheLastBattleOSTEdit.mid', '119_FinalFantasyIII_38_39ItemGet.mid', '119_FinalFantasyIII_35_36AComradeLeaves.mid', '119_FinalFantasyIII_55_56TheEverlastingWorld1.mid', '119_FinalFantasyIII_00_01ThePrelude.mid', '119_FinalFantasyIII_05_06OpeningTheme.mid', '119_FinalFantasyIII_34_35RestatTheInn.mid', '119_FinalFantasyIII_26_27TheRequiem.mid', '119_FinalFantasyIII_53_54ThisisTheLastBattle2.mid', '119_FinalFantasyIII_28_29TheBoundlessOcean.mid', '119_FinalFantasyIII_51_52TheDarkCrystals.mid', '119_FinalFantasyIII_01_02CrystalCave.mid', '119_FinalFantasyIII_12_13CuteLittleTozas.mid', '119_FinalFantasyIII_42_43Salonia.mid', '119_FinalFantasyIII_21_22CastleofHain.mid', '119_FinalFantasyIII_56_57TheEverlastingWorld2.mid', '119_FinalFantasyIII_22_23DangerousShortMusic1.mid', '119_FinalFantasyIII_41_42InTheCovertTown.mid', '119_FinalFantasyIII_18_19BigChocobo.mid', '119_FinalFantasyIII_23_24DangerousShortMusic2.mid', '119_FinalFantasyIII_52_53ThisisTheLastBattle1.mid', '119_FinalFantasyIII_11_12TheWaytoTheTop.mid', '119_FinalFantasyIII_16_17TimeRemains.mid', '119_FinalFantasyIII_39_40GarudaDefeated.mid', '119_FinalFantasyIII_06_07MyHomeTown.mid', '119_FinalFantasyIII_54_55ThisisTheLastBattle3.mid', '119_FinalFantasyIII_13_14ShrineofNept.mid', '119_FinalFantasyIII_14_15SailingEnterprise.mid', '119_FinalFantasyIII_46_47LuteofNoah.mid'], '091': ['091_DragonWarriorIV_14_15LevelUp.mid', '091_DragonWarriorIV_45_46Church.mid', '091_DragonWarriorIV_20_21BigJackpot.mid', '091_DragonWarriorIV_15_16Chapter2Ending.mid', '091_DragonWarriorIV_23_24GypsyDance.mid', '091_DragonWarriorIV_44_45ColosseumStandWithoutIntro.mid', '091_DragonWarriorIV_10_11ColosseumDressingRoom.mid', '091_DragonWarriorIV_37_38BalloonsFlight.mid', '091_DragonWarriorIV_28_29Chapter4Ending.mid', '091_DragonWarriorIV_16_17ArmsMerchantToruneko.mid', '091_DragonWarriorIV_40_41HornofBaron.mid', '091_DragonWarriorIV_32_33CursedTower.mid', '091_DragonWarriorIV_24_25Inn.mid', '091_DragonWarriorIV_36_37DiseaseRestoration.mid', '091_DragonWarriorIV_27_28ExpandingtheSeaMap.mid', '091_DragonWarriorIV_11_12ColosseumStand.mid', '091_DragonWarriorIV_38_39FluteofUncovering.mid', '091_DragonWarriorIV_22_23Chapter3Ending.mid', '091_DragonWarriorIV_42_43IncarnationofEvil.mid', '091_DragonWarriorIV_21_22SuperBigJackpot.mid', '091_DragonWarriorIV_09_10MysteriousShrine.mid', '091_DragonWarriorIV_41_42ViciousThing.mid', '091_DragonWarriorIV_13_14Victory.mid', '091_DragonWarriorIV_18_19APleasantCasino.mid', '091_DragonWarriorIV_39_40TheUnknownCastle.mid', '091_DragonWarriorIV_30_31Homeland.mid', '091_DragonWarriorIV_01_02Intermezzo.mid', '091_DragonWarriorIV_05_06CaveofFear.mid', '091_DragonWarriorIV_07_08Chapter1Ending.mid', '091_DragonWarriorIV_43_44FinaleGuidingPeople.mid', '091_DragonWarriorIV_46_47Curse.mid', '091_DragonWarriorIV_12_13BattleFortheGlory.mid', '091_DragonWarriorIV_04_05Town.mid', '091_DragonWarriorIV_29_30Elegy.mid', '091_DragonWarriorIV_00_01Overture.mid', '091_DragonWarriorIV_25_26GypsyTrip.mid', '091_DragonWarriorIV_35_36PadequiaSeed.mid', '091_DragonWarriorIV_19_20Jackpot.mid', '091_DragonWarriorIV_33_34SagesStone.mid', '091_DragonWarriorIV_02_03Minuet.mid', '091_DragonWarriorIV_17_18Save.mid', '091_DragonWarriorIV_26_27Departure.mid', '091_DragonWarriorIV_03_04SolitaryWarrior.mid', '091_DragonWarriorIV_34_35WagonWheelsMarch.mid', '091_DragonWarriorIV_08_09PrincessAlenasAdventure.mid', '091_DragonWarriorIV_31_32Encounter.mid', '091_DragonWarriorIV_06_07ImportantItemDiscovery.mid'], '378': ['378_WaiWaiWorld2_SOS__ParsleyJou_41_42MagicalAction4.mid', '378_WaiWaiWorld2_SOS__ParsleyJou_16_17TwinBeesDeparture6.mid', '378_WaiWaiWorld2_SOS__ParsleyJou_14_15TwinBeesDeparture34.mid', '378_WaiWaiWorld2_SOS__ParsleyJou_01_02ToFight.mid', '378_WaiWaiWorld2_SOS__ParsleyJou_06_07RickleShooterGO2.mid', '378_WaiWaiWorld2_SOS__ParsleyJou_20_21SweetsDance1.mid', '378_WaiWaiWorld2_SOS__ParsleyJou_33_34BushesofBambooFortress2.mid', '378_WaiWaiWorld2_SOS__ParsleyJou_37_38InvitationtoDevilsCastle2.mid', '378_WaiWaiWorld2_SOS__ParsleyJou_10_11BlossomsofOedo2.mid', '378_WaiWaiWorld2_SOS__ParsleyJou_04_05RunRickle1.mid', '378_WaiWaiWorld2_SOS__ParsleyJou_21_22SweetsDance2.mid', '378_WaiWaiWorld2_SOS__ParsleyJou_34_35BushesofBambooFortress3.mid', '378_WaiWaiWorld2_SOS__ParsleyJou_40_41MagicalAction2.mid', '378_WaiWaiWorld2_SOS__ParsleyJou_36_37InvitationtoDevilsCastle1.mid', '378_WaiWaiWorld2_SOS__ParsleyJou_11_12BlossomsofOedo3.mid', '378_WaiWaiWorld2_SOS__ParsleyJou_12_13BlossomsofOedo4.mid', '378_WaiWaiWorld2_SOS__ParsleyJou_15_16TwinBeesDeparture5.mid', '378_WaiWaiWorld2_SOS__ParsleyJou_28_29InvitationtotheWorldofDemons2.mid', '378_WaiWaiWorld2_SOS__ParsleyJou_22_23SweetsDance3.mid', '378_WaiWaiWorld2_SOS__ParsleyJou_30_31StarofRuinsMoai2.mid', '378_WaiWaiWorld2_SOS__ParsleyJou_29_30StarofRuinsMoai1.mid', '378_WaiWaiWorld2_SOS__ParsleyJou_35_36ReturnofFrogger.mid', '378_WaiWaiWorld2_SOS__ParsleyJou_09_10BlossomsofOedo1.mid', '378_WaiWaiWorld2_SOS__ParsleyJou_02_03RunRickle2.mid', '378_WaiWaiWorld2_SOS__ParsleyJou_38_39InvitationtoDevilsCastle3.mid', '378_WaiWaiWorld2_SOS__ParsleyJou_31_32StarofRuinsMoai3.mid', '378_WaiWaiWorld2_SOS__ParsleyJou_24_25WelcometoPuzzleWorld2.mid', '378_WaiWaiWorld2_SOS__ParsleyJou_45_46RickleShooterGO4alt.mid', '378_WaiWaiWorld2_SOS__ParsleyJou_23_24WelcometoPuzzleWorld1.mid', '378_WaiWaiWorld2_SOS__ParsleyJou_44_45EternalDreamOurParsleyCastle.mid', '378_WaiWaiWorld2_SOS__ParsleyJou_25_26SpeedAction1.mid', '378_WaiWaiWorld2_SOS__ParsleyJou_03_04RunRickle3.mid', '378_WaiWaiWorld2_SOS__ParsleyJou_19_20FightingJungle2.mid', '378_WaiWaiWorld2_SOS__ParsleyJou_43_44MagicalAction5.mid', '378_WaiWaiWorld2_SOS__ParsleyJou_05_06RickleShooterGO1.mid', '378_WaiWaiWorld2_SOS__ParsleyJou_32_33BushesofBambooFortress1.mid', '378_WaiWaiWorld2_SOS__ParsleyJou_13_14TwinBeesDeparture12.mid', '378_WaiWaiWorld2_SOS__ParsleyJou_42_43MagicalAction3.mid', '378_WaiWaiWorld2_SOS__ParsleyJou_17_18TWIN3D.mid', '378_WaiWaiWorld2_SOS__ParsleyJou_27_28InvitationtotheWorldofDemons1.mid', '378_WaiWaiWorld2_SOS__ParsleyJou_00_01Opening.mid', '378_WaiWaiWorld2_SOS__ParsleyJou_08_09RickleShooterGO4.mid', '378_WaiWaiWorld2_SOS__ParsleyJou_26_27SpeedAction2.mid', '378_WaiWaiWorld2_SOS__ParsleyJou_07_08RickleShooterGO3.mid', '378_WaiWaiWorld2_SOS__ParsleyJou_18_19FightingJungle1.mid', '378_WaiWaiWorld2_SOS__ParsleyJou_39_40MagicalAction1.mid'], '191': ['191_Kirby_sAdventure_16_17LevelMapSelectofLEVEL4.mid', '191_Kirby_sAdventure_28_29GameOver.mid', '191_Kirby_sAdventure_17_18MountainLevel.mid', '191_Kirby_sAdventure_38_39NightmareEmerges.mid', '191_Kirby_sAdventure_20_21UnderwaterLevel.mid', '191_Kirby_sAdventure_37_38Miss.mid', '191_Kirby_sAdventure_41_42KirbysDreamLandTitleScreen.mid', '191_Kirby_sAdventure_19_20LevelMapSelectofLEVEL5.mid', '191_Kirby_sAdventure_14_15CloudLevel.mid', '191_Kirby_sAdventure_27_28EndingDemo.mid', '191_Kirby_sAdventure_23_24LevelMapSelectofLEVEL7.mid', '191_Kirby_sAdventure_07_08LevelClearedDance.mid', '191_Kirby_sAdventure_21_22LevelMapSelectofLEVEL6.mid', '191_Kirby_sAdventure_03_04Invincibility.mid', '191_Kirby_sAdventure_35_36Bonus.mid', '191_Kirby_sAdventure_15_16CraneFever.mid', '191_Kirby_sAdventure_26_27FinalBoss.mid', '191_Kirby_sAdventure_36_37PerfectBonus.mid', '191_Kirby_sAdventure_29_30LevelClear.mid', '191_Kirby_sAdventure_12_13ForestLevel.mid', '191_Kirby_sAdventure_33_34QuickDrawMiss.mid', '191_Kirby_sAdventure_30_31LevelClearedDanceShort.mid', '191_Kirby_sAdventure_24_25BlackandWhitePlainsLevel.mid', '191_Kirby_sAdventure_09_10LevelMapSelectofLEVEL2.mid', '191_Kirby_sAdventure_06_07Boss.mid', '191_Kirby_sAdventure_04_05LevelMapSelectofLEVEL1.mid', '191_Kirby_sAdventure_11_12CastleLevel.mid', '191_Kirby_sAdventure_00_01DrawingSong.mid', '191_Kirby_sAdventure_18_19ExpertBonusLevel.mid', '191_Kirby_sAdventure_02_03PlainsLevel.mid', '191_Kirby_sAdventure_32_33QuickDraw.mid', '191_Kirby_sAdventure_05_06UndergroundLevel.mid', '191_Kirby_sAdventure_01_02TitleScreenDemo.mid', '191_Kirby_sAdventure_39_40NightmaresPowerOrb.mid', '191_Kirby_sAdventure_25_26BeginningofLevel8.mid', '191_Kirby_sAdventure_08_09SeaandShipLevel.mid', '191_Kirby_sAdventure_22_23DreamandColdLevel.mid', '191_Kirby_sAdventure_40_41NightmareWizard.mid', '191_Kirby_sAdventure_13_14LevelMapSelectofLEVEL3.mid', '191_Kirby_sAdventure_31_32CraneFeverfaster.mid', '191_Kirby_sAdventure_34_35NoBonus.mid', '191_Kirby_sAdventure_10_11MuseumandStarRidingPlace.mid'], '246': ['246_Mother_08_09Fanfare1.mid', '246_Mother_37_38QueenMarysSong.mid', '246_Mother_15_16Mystery.mid', '246_Mother_09_10LevelUp.mid', '246_Mother_33_34MtItoi.mid', '246_Mother_05_06Battle2.mid', '246_Mother_06_07Battle3.mid', '246_Mother_31_32Tank.mid', '246_Mother_35_36Tombstone.mid', '246_Mother_19_20Factory.mid', '246_Mother_20_21BeingFriends.mid', '246_Mother_02_03Earthquake.mid', '246_Mother_18_19TwinkleElementarySchool.mid', '246_Mother_38_39GieguesCry.mid', '246_Mother_29_30LiveHouse.mid', '246_Mother_39_40EndingStaffRoll.mid', '246_Mother_13_14Cave.mid', '246_Mother_00_01Title.mid', '246_Mother_22_23Snowman.mid', '246_Mother_27_28MonkeysCave.mid', '246_Mother_34_35LoveDance.mid', '246_Mother_32_33MtItoiCave.mid', '246_Mother_16_17Magicant.mid', '246_Mother_21_22Train.mid', '246_Mother_24_25Sleep.mid', '246_Mother_28_29Youngtown.mid', '246_Mother_10_11GameOver.mid', '246_Mother_11_12Shop.mid', '246_Mother_30_31LiveHouseSong.mid', '246_Mother_03_04Pollyanna.mid', '246_Mother_04_05Battle1.mid', '246_Mother_25_26YuccaDesert.mid', '246_Mother_26_27Airplane.mid', '246_Mother_14_15Alert.mid', '246_Mother_36_37EightMelodies.mid', '246_Mother_17_18QueenMarysCastle.mid', '246_Mother_07_08Victory.mid', '246_Mother_01_02House.mid', '246_Mother_12_13Cemetery.mid', '246_Mother_23_24Fanfare2.mid'], '042': ['042_CaptainTsubasaVol_II_SuperStriker_14_15Appearance.mid', '042_CaptainTsubasaVol_II_SuperStriker_20_21OpposingTeamFlamengo.mid', '042_CaptainTsubasaVol_II_SuperStriker_08_09OpponentGoal.mid', '042_CaptainTsubasaVol_II_SuperStriker_06_07SaoPauloFC.mid', '042_CaptainTsubasaVol_II_SuperStriker_04_05MainBGM.mid', '042_CaptainTsubasaVol_II_SuperStriker_36_37WorldYouthCupVictory.mid', '042_CaptainTsubasaVol_II_SuperStriker_17_18CarlosofWestGermanyAfterTheGame.mid', '042_CaptainTsubasaVol_II_SuperStriker_10_11TimerLow.mid', '042_CaptainTsubasaVol_II_SuperStriker_37_38LastScene.mid', '042_CaptainTsubasaVol_II_SuperStriker_28_29TeamJapanYouth.mid', '042_CaptainTsubasaVol_II_SuperStriker_31_32OpposingTeamsFinalTournament.mid', '042_CaptainTsubasaVol_II_SuperStriker_35_36OpposingTeamBrazil.mid', '042_CaptainTsubasaVol_II_SuperStriker_12_13PlayerGoal.mid', '042_CaptainTsubasaVol_II_SuperStriker_34_35BrazilGameMeeting.mid', '042_CaptainTsubasaVol_II_SuperStriker_26_27OpposingTeamsJapanCup.mid', '042_CaptainTsubasaVol_II_SuperStriker_30_31OpposingTeamsPoolPlay.mid', '042_CaptainTsubasaVol_II_SuperStriker_15_16RumorofWorldYouth.mid', '042_CaptainTsubasaVol_II_SuperStriker_38_39CreditRoll.mid', '042_CaptainTsubasaVol_II_SuperStriker_02_03FirstScene.mid', '042_CaptainTsubasaVol_II_SuperStriker_09_10Foul.mid', '042_CaptainTsubasaVol_II_SuperStriker_27_28Sanae.mid', '042_CaptainTsubasaVol_II_SuperStriker_21_22RiodeJaneiroCupVictory.mid', '042_CaptainTsubasaVol_II_SuperStriker_13_14RumorisTrue.mid', '042_CaptainTsubasaVol_II_SuperStriker_11_12PenaltyShootoutPassword.mid', '042_CaptainTsubasaVol_II_SuperStriker_19_20FlamengoBeforeTheGame.mid', '042_CaptainTsubasaVol_II_SuperStriker_00_01Opening.mid', '042_CaptainTsubasaVol_II_SuperStriker_07_08OpposingTeamsRiodeJaneiroCup.mid', '042_CaptainTsubasaVol_II_SuperStriker_05_06ThemeofCharlie.mid', '042_CaptainTsubasaVol_II_SuperStriker_18_19CoimbraAppearance.mid', '042_CaptainTsubasaVol_II_SuperStriker_24_25OpposingTeamTohoHighSchool.mid', '042_CaptainTsubasaVol_II_SuperStriker_23_24OpposingTeamsHighSchoolCup.mid', '042_CaptainTsubasaVol_II_SuperStriker_29_30OpposingTeamsQualifyingAsia.mid', '042_CaptainTsubasaVol_II_SuperStriker_25_26HighSchoolCupVictory.mid', '042_CaptainTsubasaVol_II_SuperStriker_01_02Meeting.mid', '042_CaptainTsubasaVol_II_SuperStriker_22_23TeamNankatsu.mid', '042_CaptainTsubasaVol_II_SuperStriker_32_33CycloneLearning.mid', '042_CaptainTsubasaVol_II_SuperStriker_16_17What.mid', '042_CaptainTsubasaVol_II_SuperStriker_39_40GameOver.mid', '042_CaptainTsubasaVol_II_SuperStriker_33_34OpposingTeamWestGermany.mid', '042_CaptainTsubasaVol_II_SuperStriker_03_04Title.mid'], '276': ['276_RadiaSenki_ReimeiHen_02_03Field1.mid', '276_RadiaSenki_ReimeiHen_30_31WaterCityGuandia.mid', '276_RadiaSenki_ReimeiHen_32_33RadiaTower.mid', '276_RadiaSenki_ReimeiHen_18_19LevelUp.mid', '276_RadiaSenki_ReimeiHen_31_32ProfessorCountrySamara.mid', '276_RadiaSenki_ReimeiHen_08_09Restlessness.mid', '276_RadiaSenki_ReimeiHen_34_35Sanctuary.mid', '276_RadiaSenki_ReimeiHen_36_37LastBattle.mid', '276_RadiaSenki_ReimeiHen_37_38Epilogue.mid', '276_RadiaSenki_ReimeiHen_06_07GetItem.mid', '276_RadiaSenki_ReimeiHen_17_18Boss.mid', '276_RadiaSenki_ReimeiHen_38_39GameOver.mid', '276_RadiaSenki_ReimeiHen_16_17EnemyAppearance.mid', '276_RadiaSenki_ReimeiHen_25_26WaterTower.mid', '276_RadiaSenki_ReimeiHen_19_20Lusicadied.mid', '276_RadiaSenki_ReimeiHen_12_13Castle.mid', '276_RadiaSenki_ReimeiHen_33_34Sarria.mid', '276_RadiaSenki_ReimeiHen_01_02Awakening.mid', '276_RadiaSenki_ReimeiHen_07_08Save.mid', '276_RadiaSenki_ReimeiHen_05_06UnknownVillageElfas.mid', '276_RadiaSenki_ReimeiHen_27_28AguilaTown.mid', '276_RadiaSenki_ReimeiHen_29_30Trap.mid', '276_RadiaSenki_ReimeiHen_24_25Ruins.mid', '276_RadiaSenki_ReimeiHen_14_15BreezyTownKhvat.mid', '276_RadiaSenki_ReimeiHen_28_29Shrine.mid', '276_RadiaSenki_ReimeiHen_23_24Field2.mid', '276_RadiaSenki_ReimeiHen_09_10Encounter.mid', '276_RadiaSenki_ReimeiHen_20_21Ship.mid', '276_RadiaSenki_ReimeiHen_11_12LignificationHyupo.mid', '276_RadiaSenki_ReimeiHen_26_27FlameSeetheTownBoundra.mid', '276_RadiaSenki_ReimeiHen_22_23Discovery.mid', '276_RadiaSenki_ReimeiHen_04_05BattleEnd.mid', '276_RadiaSenki_ReimeiHen_21_22AllyAppearance.mid', '276_RadiaSenki_ReimeiHen_10_11Cave.mid', '276_RadiaSenki_ReimeiHen_15_16UndergroundDwellingKhvat.mid', '276_RadiaSenki_ReimeiHen_00_01Opening.mid', '276_RadiaSenki_ReimeiHen_13_14ElfasCastle.mid', '276_RadiaSenki_ReimeiHen_35_36ArcCastle.mid', '276_RadiaSenki_ReimeiHen_03_04Battle.mid'], '233': ['233_MetalMax_00_01Title.mid', '233_MetalMax_31_32ItemGet.mid', '233_MetalMax_16_17DungeonDance.mid', '233_MetalMax_15_16AbandonedFactory.mid', '233_MetalMax_10_117mmCannonofTears.mid', '233_MetalMax_28_29LevelUp.mid', '233_MetalMax_09_10Caravan.mid', '233_MetalMax_17_18HowlIntheIndeliblePast.mid', '233_MetalMax_05_06Battle.mid', '233_MetalMax_30_31MarchTrumpet.mid', '233_MetalMax_26_27AnimalParade.mid', '233_MetalMax_33_34BattlewithNoah.mid', '233_MetalMax_08_09TankBangBang.mid', '233_MetalMax_27_28WhoCreatedSuchaTank.mid', '233_MetalMax_02_03WinningBuyingDriving.mid', '233_MetalMax_29_30PartyIn.mid', '233_MetalMax_04_05Incoming.mid', '233_MetalMax_18_19WanderersSong.mid', '233_MetalMax_14_15MetalMaxThemeofLove.mid', '233_MetalMax_01_02CaterpillarTracks.mid', '233_MetalMax_24_25Inn.mid', '233_MetalMax_32_33ComputerRoom.mid', '233_MetalMax_34_35FakeEnding.mid', '233_MetalMax_12_13CaterpillarVillage.mid', '233_MetalMax_19_20Incoming2.mid', '233_MetalMax_20_21BattlewiththeWanted.mid', '233_MetalMax_36_37StaffRoll.mid', '233_MetalMax_13_14TankVodka.mid', '233_MetalMax_35_36Ending.mid', '233_MetalMax_23_24LetsMeetDrMince.mid', '233_MetalMax_11_12CirculatedPobreObre.mid', '233_MetalMax_21_22BountyCrushed.mid', '233_MetalMax_22_23Annihilation.mid', '233_MetalMax_03_04ToanUnknownWilderness.mid', '233_MetalMax_37_38StaffRollShortVer.mid', '233_MetalMax_07_08MetallicShaker.mid', '233_MetalMax_25_26InnBiggestRoom.mid', '233_MetalMax_06_07Victory.mid'], '229': ['229_MegaMan6_05_06GameStart.mid', '229_MegaMan6_35_36EndingOSTEdit.mid', '229_MegaMan6_07_08CentaurManStage.mid', '229_MegaMan6_20_21DrWilyStage.mid', '229_MegaMan6_06_07BlizzardManStage.mid', '229_MegaMan6_31_32EndingYamatoMan.mid', '229_MegaMan6_08_09FlameManStage.mid', '229_MegaMan6_13_14YamatoManStage.mid', '229_MegaMan6_36_37ProtoMan.mid', '229_MegaMan6_25_26EndingCentaurMan.mid', '229_MegaMan6_16_17GetAWeapon.mid', '229_MegaMan6_11_12TomahawkManStage.mid', '229_MegaMan6_21_22LastBoss.mid', '229_MegaMan6_14_15Boss.mid', '229_MegaMan6_28_29EndingPlantMan.mid', '229_MegaMan6_18_19MrXStage.mid', '229_MegaMan6_26_27EndingFlameMan.mid', '229_MegaMan6_04_05StageSelect.mid', '229_MegaMan6_02_03Title.mid', '229_MegaMan6_12_13WindManStage.mid', '229_MegaMan6_32_33EndingCreditRoll.mid', '229_MegaMan6_01_02Opening.mid', '229_MegaMan6_09_10KnightManStage.mid', '229_MegaMan6_03_04PassWord.mid', '229_MegaMan6_30_31EndingWindMan.mid', '229_MegaMan6_15_16StageClear.mid', '229_MegaMan6_17_18MrXStageMap.mid', '229_MegaMan6_23_24EndingIntro.mid', '229_MegaMan6_24_25EndingBlizzardMan.mid', '229_MegaMan6_33_34GameOver.mid', '229_MegaMan6_27_28EndingKnightMan.mid', '229_MegaMan6_19_20DrWilyStageMap.mid', '229_MegaMan6_29_30EndingTomahawkMan.mid', '229_MegaMan6_10_11PlantManStage.mid', '229_MegaMan6_00_01CapcomLogo.mid', '229_MegaMan6_34_35Rockman6Opening.mid', '229_MegaMan6_22_23AllStageClear.mid']}\n",
            "dict_keys(['135', '119', '091', '378', '191', '246', '042', '276', '233', '229'])\n"
          ]
        }
      ]
    },
    {
      "cell_type": "markdown",
      "source": [
        "## Read NumPy representations"
      ],
      "metadata": {
        "id": "Wy5BQKTdOWjM"
      }
    },
    {
      "cell_type": "code",
      "source": [
        "import numpy as np\n",
        "\"\"\"\n",
        "Numpy array stored as a pickle object. Pickle files and swap with batches\n",
        "when you have a lot of data.\n",
        "\n",
        "N is the length of the song. 4 is the number of instruments. We can treat \n",
        "them like pictures!! LIke RGB image representation.\n",
        "\n",
        "Pickle is a way to allow us to serialize Python objs\n",
        "\"\"\"\n",
        "game_tracks_np = defaultdict(list)\n",
        "\n",
        "tss = []\n",
        "for game_id in game_tracks:  \n",
        "  for track in game_tracks[game_id]:\n",
        "    exprsco_path = exprsco_train_path + track.replace(\".mid\",\".exprsco.pkl\")\n",
        "    np_rep = np.load(exprsco_path, allow_pickle=True)[2]\n",
        "\n",
        "    game_tracks_np[game_id].append(np_rep)\n",
        "    tss.append(np_rep.shape[0])\n",
        "\n",
        "print(game_tracks_np.keys())"
      ],
      "metadata": {
        "id": "u6tJyW7AOgGY",
        "colab": {
          "base_uri": "https://localhost:8080/"
        },
        "outputId": "591fd6f1-a078-4bdf-ac4c-46424c258200"
      },
      "execution_count": 8,
      "outputs": [
        {
          "output_type": "stream",
          "name": "stdout",
          "text": [
            "dict_keys(['135', '119', '091', '378', '191', '246', '042', '276', '233', '229'])\n"
          ]
        }
      ]
    },
    {
      "cell_type": "markdown",
      "source": [
        "## Train-Test Split\n",
        "\n"
      ],
      "metadata": {
        "id": "Nfn1KmOaQ7zg"
      }
    },
    {
      "cell_type": "code",
      "source": [
        "\"\"\"\n",
        "460 is a middle number. Not too high or too low. Was good number in order to\n",
        "classify. Number of steps.\n",
        "Trial and error to find the 460.\n",
        "\"\"\"\n",
        "\n",
        "def train_test_split(game_tracks_np, max_timesteps=460, test_ratio=0.2):\n",
        "  x_train_lst = []\n",
        "  y_train_lst = []\n",
        "\n",
        "  x_test_lst = []\n",
        "  y_test_lst = []\n",
        "\n",
        "  test_game_tracks = []\n",
        "\n",
        "  for class_id, game_id in enumerate(game_tracks_np):\n",
        "    print('class_id', class_id)\n",
        "    print('game_id', game_id)\n",
        "    tracks_lst = game_tracks_np[game_id]\n",
        "    print('len(tracks_lst)', len(tracks_lst))\n",
        "    test_idx = int(len(tracks_lst) * (1 - test_ratio))\n",
        "    print('test_idx', test_idx)\n",
        "    x_train_lst.extend(tracks_lst[:test_idx])\n",
        "    y_train_lst.extend([class_id for _ in range(test_idx)])\n",
        "\n",
        "    x_test_lst.extend(tracks_lst[test_idx:])\n",
        "    y_test_lst.extend([class_id for _ in tracks_lst[test_idx:]])\n",
        "    test_game_tracks.extend((game_id, a) for a in range(test_idx, len(tracks_lst)))\n",
        "\n",
        "  \"\"\"\n",
        "  Each song is represented as an numpy.uint8 array of size Nx4x3,\n",
        "  where N is the number of timesteps at 24 Hz. \n",
        "  There are 4 synthesis voices, and each has a state of 3 bytes per timestep \n",
        "  consisting of note, velocity and timbral information.\n",
        "  \"\"\"\n",
        "  x_train = np.zeros((len(x_train_lst), max_timesteps, 4, 3))  # 4 and 3 come from https://github.com/chrisdonahue/nesmdb#download-links\n",
        "  x_test = np.zeros((len(x_test_lst), max_timesteps, 4, 3))\n",
        "\n",
        "  # Padding to correct length\n",
        "  for idx, np_rep in enumerate(x_train_lst):\n",
        "    ts = min(max_timesteps, np_rep.shape[0])\n",
        "    x_train[idx, :ts] = np_rep[:ts]\n",
        "\n",
        "  for idx, np_rep in enumerate(x_test_lst):\n",
        "    ts = min(max_timesteps, np_rep.shape[0])\n",
        "    x_test[idx, :ts] = np_rep[:ts]\n",
        "  \n",
        "  y_train = np.array(y_train_lst)\n",
        "  y_test = np.array(y_test_lst)\n",
        "\n",
        "\n",
        "  return x_train, y_train, x_test, y_test, test_game_tracks\n",
        "\n",
        "x_train, y_train, x_test, y_test, test_game_tracks = train_test_split(game_tracks_np)\n",
        "\n",
        "print('y_train: ', y_train)\n",
        "print('y_test: ', y_test)\n",
        "\n",
        "print(x_train.shape, y_train.shape, x_test.shape, y_test.shape)\n",
        "\n",
        "print(x_train.min(), x_train.max(), x_train.mean())\n",
        "\n",
        "  "
      ],
      "metadata": {
        "colab": {
          "base_uri": "https://localhost:8080/"
        },
        "id": "rB2OL6i4QGEC",
        "outputId": "5e5104d3-47e6-4f85-813b-53d9a68c0554"
      },
      "execution_count": 9,
      "outputs": [
        {
          "output_type": "stream",
          "name": "stdout",
          "text": [
            "class_id 0\n",
            "game_id 135\n",
            "len(tracks_lst) 99\n",
            "test_idx 79\n",
            "class_id 1\n",
            "game_id 119\n",
            "len(tracks_lst) 59\n",
            "test_idx 47\n",
            "class_id 2\n",
            "game_id 091\n",
            "len(tracks_lst) 47\n",
            "test_idx 37\n",
            "class_id 3\n",
            "game_id 378\n",
            "len(tracks_lst) 46\n",
            "test_idx 36\n",
            "class_id 4\n",
            "game_id 191\n",
            "len(tracks_lst) 42\n",
            "test_idx 33\n",
            "class_id 5\n",
            "game_id 246\n",
            "len(tracks_lst) 40\n",
            "test_idx 32\n",
            "class_id 6\n",
            "game_id 042\n",
            "len(tracks_lst) 40\n",
            "test_idx 32\n",
            "class_id 7\n",
            "game_id 276\n",
            "len(tracks_lst) 39\n",
            "test_idx 31\n",
            "class_id 8\n",
            "game_id 233\n",
            "len(tracks_lst) 38\n",
            "test_idx 30\n",
            "class_id 9\n",
            "game_id 229\n",
            "len(tracks_lst) 37\n",
            "test_idx 29\n",
            "y_train:  [0 0 0 0 0 0 0 0 0 0 0 0 0 0 0 0 0 0 0 0 0 0 0 0 0 0 0 0 0 0 0 0 0 0 0 0 0\n",
            " 0 0 0 0 0 0 0 0 0 0 0 0 0 0 0 0 0 0 0 0 0 0 0 0 0 0 0 0 0 0 0 0 0 0 0 0 0\n",
            " 0 0 0 0 0 1 1 1 1 1 1 1 1 1 1 1 1 1 1 1 1 1 1 1 1 1 1 1 1 1 1 1 1 1 1 1 1\n",
            " 1 1 1 1 1 1 1 1 1 1 1 1 1 1 1 2 2 2 2 2 2 2 2 2 2 2 2 2 2 2 2 2 2 2 2 2 2\n",
            " 2 2 2 2 2 2 2 2 2 2 2 2 2 2 2 3 3 3 3 3 3 3 3 3 3 3 3 3 3 3 3 3 3 3 3 3 3\n",
            " 3 3 3 3 3 3 3 3 3 3 3 3 3 3 4 4 4 4 4 4 4 4 4 4 4 4 4 4 4 4 4 4 4 4 4 4 4\n",
            " 4 4 4 4 4 4 4 4 4 4 5 5 5 5 5 5 5 5 5 5 5 5 5 5 5 5 5 5 5 5 5 5 5 5 5 5 5\n",
            " 5 5 5 5 5 6 6 6 6 6 6 6 6 6 6 6 6 6 6 6 6 6 6 6 6 6 6 6 6 6 6 6 6 6 6 6 6\n",
            " 7 7 7 7 7 7 7 7 7 7 7 7 7 7 7 7 7 7 7 7 7 7 7 7 7 7 7 7 7 7 7 8 8 8 8 8 8\n",
            " 8 8 8 8 8 8 8 8 8 8 8 8 8 8 8 8 8 8 8 8 8 8 8 8 9 9 9 9 9 9 9 9 9 9 9 9 9\n",
            " 9 9 9 9 9 9 9 9 9 9 9 9 9 9 9 9]\n",
            "y_test:  [0 0 0 0 0 0 0 0 0 0 0 0 0 0 0 0 0 0 0 0 1 1 1 1 1 1 1 1 1 1 1 1 2 2 2 2 2\n",
            " 2 2 2 2 2 3 3 3 3 3 3 3 3 3 3 4 4 4 4 4 4 4 4 4 5 5 5 5 5 5 5 5 6 6 6 6 6\n",
            " 6 6 6 7 7 7 7 7 7 7 7 8 8 8 8 8 8 8 8 9 9 9 9 9 9 9 9]\n",
            "(386, 460, 4, 3) (386,) (101, 460, 4, 3) (101,)\n",
            "0.0 108.0 11.385995813621687\n"
          ]
        }
      ]
    },
    {
      "cell_type": "code",
      "source": [
        "x_train = x_train.reshape(x_train.shape[0], x_train.shape[1], -1)\n",
        "x_test = x_test.reshape(x_test.shape[0], x_test.shape[1], -1)\n",
        "\n",
        "print(x_train.shape, y_train.shape, x_test.shape, y_test.shape)"
      ],
      "metadata": {
        "id": "p2WeXg-Qd_c6",
        "colab": {
          "base_uri": "https://localhost:8080/"
        },
        "outputId": "5f21bd75-d2c2-4e79-a468-e9f6d4ba339a"
      },
      "execution_count": 10,
      "outputs": [
        {
          "output_type": "stream",
          "name": "stdout",
          "text": [
            "(386, 460, 12) (386,) (101, 460, 12) (101,)\n"
          ]
        }
      ]
    },
    {
      "cell_type": "code",
      "source": [
        "# Import the libraries we'll use below.\n",
        "import numpy as np\n",
        "from matplotlib import pyplot as plt\n",
        "import pandas as pd\n",
        "import seaborn as sns  # for nicer plots\n",
        "sns.set(style=\"darkgrid\")  # default style\n",
        "\n",
        "import tensorflow as tf\n",
        "from tensorflow import keras\n",
        "from keras import metrics\n",
        "from keras.preprocessing.image import ImageDataGenerator\n"
      ],
      "metadata": {
        "id": "_ZrwgtVwYBTI"
      },
      "execution_count": 11,
      "outputs": []
    },
    {
      "cell_type": "code",
      "source": [
        "\"\"\"\n",
        "Conv1d since music is linear, by music steps. So max pooling is also 1d.\n",
        "It doesn't make sense to do conv2d where a 2d window is sliding through an image.\n",
        "\n",
        "\"\"\"\n",
        "\n",
        "def build_model(input_shape=(460, 12), learning_rate=0.01):\n",
        "  \"\"\"Build a TF logistic regression model using Keras.\n",
        "\n",
        "  Args:\n",
        "    input_shape: The shape of the model's input. \n",
        "    learning_rate: The desired learning rate for SGD.\n",
        "\n",
        "  Returns:\n",
        "    model: A tf.keras model (graph).\n",
        "  \"\"\"\n",
        "  # This is not strictly necessary, but each time you build a model, TF adds\n",
        "  # new nodes (rather than overwriting), so the colab session can end up\n",
        "  # storing lots of copies of the graph when you only care about the most\n",
        "  # recent. Also, as there is some randomness built into training with SGD,\n",
        "  # setting a random seed ensures that results are the same on each identical\n",
        "  # training run.\n",
        "  tf.keras.backend.clear_session()\n",
        "  np.random.seed(0)\n",
        "  tf.random.set_seed(0)\n",
        "\n",
        "  num_classes = 10\n",
        "\n",
        "  model = keras.Sequential()\n",
        "\n",
        "  model.add(keras.layers.Conv1D(filters=32, kernel_size=12, padding='same',\n",
        "                  input_shape=input_shape))\n",
        "  \n",
        "  model.add(keras.layers.Activation('relu'))\n",
        "  model.add(keras.layers.Conv1D(filters=32, kernel_size=12))\n",
        "\n",
        "\n",
        "  model.add(keras.layers.Activation('relu'))\n",
        "  model.add(keras.layers.MaxPooling1D(pool_size=4))\n",
        "\n",
        "  model.add(keras.layers.Conv1D(filters=64, kernel_size=12, padding='same'))\n",
        "  model.add(keras.layers.Activation('relu'))\n",
        "\n",
        "\n",
        "  model.add(keras.layers.Conv1D(filters=64, kernel_size=12))\n",
        "  model.add(keras.layers.Activation('relu'))\n",
        "\n",
        "  model.add(keras.layers.Conv1D(filters=64, kernel_size=12))\n",
        "  model.add(keras.layers.Activation('relu'))\n",
        "  \n",
        "  model.add(keras.layers.Conv1D(filters=64, kernel_size=12))\n",
        "\n",
        "  model.add(keras.layers.Activation('relu'))\n",
        "  model.add(keras.layers.MaxPooling1D(pool_size=4))\n",
        "  \n",
        "  model.add(keras.layers.Flatten())\n",
        "\n",
        "  model.add(keras.layers.Dense(units=512))\n",
        "\n",
        "  model.add(keras.layers.Activation('relu'))\n",
        "\n",
        "  model.add(keras.layers.Dense(units=num_classes))\n",
        "  model.add(keras.layers.Activation('softmax'))\n",
        "  # We need to choose an optimizer. We'll use SGD, which is actually mini-batch\n",
        "  # SGD. We can specify the batch size to use for training later.\n",
        "  optimizer = tf.keras.optimizers.SGD(learning_rate=learning_rate)\n",
        "  # Finally, we compile the model. This finalizes the graph for training.\n",
        "  model.compile(loss=keras.losses.sparse_categorical_crossentropy,\n",
        "              optimizer=optimizer,\n",
        "              metrics=['accuracy'])\n",
        "\n",
        "\n",
        "  return model"
      ],
      "metadata": {
        "id": "FcYONY-9X9ot"
      },
      "execution_count": 12,
      "outputs": []
    },
    {
      "cell_type": "code",
      "source": [
        "model = build_model(input_shape=x_train[0].shape, learning_rate=0.001)\n",
        "\n",
        "model.summary()\n",
        "\n",
        "# Fit the model.\n",
        "history = model.fit(\n",
        "  x = x_train,   # our binary training examples\n",
        "  y = y_train,   # corresponding binary labels\n",
        "  epochs=200,             # number of passes through the training data\n",
        "  batch_size=64,        # mini-batch size for SGD\n",
        "  shuffle=True,\n",
        "  validation_data=(x_test, y_test), # use a fraction of the examples for validation\n",
        "  verbose=1             # display some progress output during training\n",
        "  )\n",
        "\n",
        "# Convert the return value into a DataFrame so we can see the train loss \n",
        "# and binary accuracy after every epoch.\n",
        "history = pd.DataFrame(history.history)\n",
        "display(history)"
      ],
      "metadata": {
        "colab": {
          "base_uri": "https://localhost:8080/",
          "height": 1000
        },
        "id": "ybx3S8fTereq",
        "outputId": "6f460573-4a9a-432f-e062-a4e139b2eeca"
      },
      "execution_count": 13,
      "outputs": [
        {
          "output_type": "stream",
          "name": "stdout",
          "text": [
            "Model: \"sequential\"\n",
            "_________________________________________________________________\n",
            " Layer (type)                Output Shape              Param #   \n",
            "=================================================================\n",
            " conv1d (Conv1D)             (None, 460, 32)           4640      \n",
            "                                                                 \n",
            " activation (Activation)     (None, 460, 32)           0         \n",
            "                                                                 \n",
            " conv1d_1 (Conv1D)           (None, 449, 32)           12320     \n",
            "                                                                 \n",
            " activation_1 (Activation)   (None, 449, 32)           0         \n",
            "                                                                 \n",
            " max_pooling1d (MaxPooling1D  (None, 112, 32)          0         \n",
            " )                                                               \n",
            "                                                                 \n",
            " conv1d_2 (Conv1D)           (None, 112, 64)           24640     \n",
            "                                                                 \n",
            " activation_2 (Activation)   (None, 112, 64)           0         \n",
            "                                                                 \n",
            " conv1d_3 (Conv1D)           (None, 101, 64)           49216     \n",
            "                                                                 \n",
            " activation_3 (Activation)   (None, 101, 64)           0         \n",
            "                                                                 \n",
            " conv1d_4 (Conv1D)           (None, 90, 64)            49216     \n",
            "                                                                 \n",
            " activation_4 (Activation)   (None, 90, 64)            0         \n",
            "                                                                 \n",
            " conv1d_5 (Conv1D)           (None, 79, 64)            49216     \n",
            "                                                                 \n",
            " activation_5 (Activation)   (None, 79, 64)            0         \n",
            "                                                                 \n",
            " max_pooling1d_1 (MaxPooling  (None, 19, 64)           0         \n",
            " 1D)                                                             \n",
            "                                                                 \n",
            " flatten (Flatten)           (None, 1216)              0         \n",
            "                                                                 \n",
            " dense (Dense)               (None, 512)               623104    \n",
            "                                                                 \n",
            " activation_6 (Activation)   (None, 512)               0         \n",
            "                                                                 \n",
            " dense_1 (Dense)             (None, 10)                5130      \n",
            "                                                                 \n",
            " activation_7 (Activation)   (None, 10)                0         \n",
            "                                                                 \n",
            "=================================================================\n",
            "Total params: 817,482\n",
            "Trainable params: 817,482\n",
            "Non-trainable params: 0\n",
            "_________________________________________________________________\n",
            "Epoch 1/200\n",
            "7/7 [==============================] - 3s 360ms/step - loss: 2.6996 - accuracy: 0.1114 - val_loss: 2.4022 - val_accuracy: 0.1089\n",
            "Epoch 2/200\n",
            "7/7 [==============================] - 2s 337ms/step - loss: 2.3649 - accuracy: 0.1347 - val_loss: 2.4624 - val_accuracy: 0.1584\n",
            "Epoch 3/200\n",
            "7/7 [==============================] - 2s 307ms/step - loss: 2.3128 - accuracy: 0.1580 - val_loss: 2.4102 - val_accuracy: 0.1287\n",
            "Epoch 4/200\n",
            "7/7 [==============================] - 2s 309ms/step - loss: 2.2651 - accuracy: 0.1658 - val_loss: 2.3124 - val_accuracy: 0.1881\n",
            "Epoch 5/200\n",
            "7/7 [==============================] - 2s 310ms/step - loss: 2.2210 - accuracy: 0.1839 - val_loss: 2.3071 - val_accuracy: 0.0891\n",
            "Epoch 6/200\n",
            "7/7 [==============================] - 2s 309ms/step - loss: 2.2134 - accuracy: 0.1736 - val_loss: 2.2275 - val_accuracy: 0.1683\n",
            "Epoch 7/200\n",
            "7/7 [==============================] - 2s 306ms/step - loss: 2.1635 - accuracy: 0.2176 - val_loss: 2.2424 - val_accuracy: 0.1881\n",
            "Epoch 8/200\n",
            "7/7 [==============================] - 2s 306ms/step - loss: 2.1713 - accuracy: 0.2047 - val_loss: 2.2842 - val_accuracy: 0.1188\n",
            "Epoch 9/200\n",
            "7/7 [==============================] - 2s 304ms/step - loss: 2.1548 - accuracy: 0.1995 - val_loss: 2.1776 - val_accuracy: 0.1584\n",
            "Epoch 10/200\n",
            "7/7 [==============================] - 2s 306ms/step - loss: 2.0897 - accuracy: 0.2539 - val_loss: 2.2680 - val_accuracy: 0.2079\n",
            "Epoch 11/200\n",
            "7/7 [==============================] - 2s 307ms/step - loss: 2.1125 - accuracy: 0.2565 - val_loss: 2.6026 - val_accuracy: 0.1881\n",
            "Epoch 12/200\n",
            "7/7 [==============================] - 2s 303ms/step - loss: 2.2431 - accuracy: 0.1943 - val_loss: 2.2043 - val_accuracy: 0.1782\n",
            "Epoch 13/200\n",
            "7/7 [==============================] - 2s 305ms/step - loss: 2.0684 - accuracy: 0.2591 - val_loss: 2.2831 - val_accuracy: 0.1782\n",
            "Epoch 14/200\n",
            "7/7 [==============================] - 2s 306ms/step - loss: 2.0512 - accuracy: 0.2824 - val_loss: 2.3209 - val_accuracy: 0.1287\n",
            "Epoch 15/200\n",
            "7/7 [==============================] - 3s 391ms/step - loss: 2.0839 - accuracy: 0.2176 - val_loss: 2.2662 - val_accuracy: 0.1782\n",
            "Epoch 16/200\n",
            "7/7 [==============================] - 2s 307ms/step - loss: 2.0201 - accuracy: 0.2668 - val_loss: 2.3982 - val_accuracy: 0.1782\n",
            "Epoch 17/200\n",
            "7/7 [==============================] - 2s 352ms/step - loss: 2.0373 - accuracy: 0.2668 - val_loss: 2.1529 - val_accuracy: 0.2376\n",
            "Epoch 18/200\n",
            "7/7 [==============================] - 2s 313ms/step - loss: 1.9733 - accuracy: 0.3187 - val_loss: 3.6985 - val_accuracy: 0.1188\n",
            "Epoch 19/200\n",
            "7/7 [==============================] - 3s 497ms/step - loss: 2.5473 - accuracy: 0.1684 - val_loss: 2.2238 - val_accuracy: 0.1881\n",
            "Epoch 20/200\n",
            "7/7 [==============================] - 4s 581ms/step - loss: 2.0837 - accuracy: 0.2617 - val_loss: 2.1692 - val_accuracy: 0.1683\n",
            "Epoch 21/200\n",
            "7/7 [==============================] - 4s 575ms/step - loss: 1.9904 - accuracy: 0.3212 - val_loss: 2.1149 - val_accuracy: 0.2277\n",
            "Epoch 22/200\n",
            "7/7 [==============================] - 4s 600ms/step - loss: 1.9094 - accuracy: 0.3368 - val_loss: 2.1859 - val_accuracy: 0.2376\n",
            "Epoch 23/200\n",
            "7/7 [==============================] - 4s 592ms/step - loss: 1.9671 - accuracy: 0.2953 - val_loss: 2.1610 - val_accuracy: 0.2079\n",
            "Epoch 24/200\n",
            "7/7 [==============================] - 4s 573ms/step - loss: 1.8742 - accuracy: 0.3575 - val_loss: 2.1164 - val_accuracy: 0.2277\n",
            "Epoch 25/200\n",
            "7/7 [==============================] - 4s 602ms/step - loss: 1.8470 - accuracy: 0.3497 - val_loss: 2.2819 - val_accuracy: 0.1386\n",
            "Epoch 26/200\n",
            "7/7 [==============================] - 4s 622ms/step - loss: 1.9671 - accuracy: 0.2850 - val_loss: 2.2005 - val_accuracy: 0.2079\n",
            "Epoch 27/200\n",
            "7/7 [==============================] - 2s 315ms/step - loss: 1.8407 - accuracy: 0.3575 - val_loss: 2.2187 - val_accuracy: 0.1881\n",
            "Epoch 28/200\n",
            "7/7 [==============================] - 2s 312ms/step - loss: 1.8460 - accuracy: 0.3705 - val_loss: 2.2829 - val_accuracy: 0.1782\n",
            "Epoch 29/200\n",
            "7/7 [==============================] - 2s 313ms/step - loss: 1.7978 - accuracy: 0.3782 - val_loss: 1.9629 - val_accuracy: 0.2673\n",
            "Epoch 30/200\n",
            "7/7 [==============================] - 2s 311ms/step - loss: 1.7372 - accuracy: 0.3782 - val_loss: 3.1344 - val_accuracy: 0.1485\n",
            "Epoch 31/200\n",
            "7/7 [==============================] - 2s 314ms/step - loss: 2.1036 - accuracy: 0.3342 - val_loss: 2.0017 - val_accuracy: 0.2970\n",
            "Epoch 32/200\n",
            "7/7 [==============================] - 2s 315ms/step - loss: 1.7314 - accuracy: 0.4145 - val_loss: 2.1060 - val_accuracy: 0.2673\n",
            "Epoch 33/200\n",
            "7/7 [==============================] - 2s 309ms/step - loss: 1.6919 - accuracy: 0.4067 - val_loss: 2.7386 - val_accuracy: 0.2178\n",
            "Epoch 34/200\n",
            "7/7 [==============================] - 2s 314ms/step - loss: 1.8632 - accuracy: 0.3912 - val_loss: 2.1814 - val_accuracy: 0.1881\n",
            "Epoch 35/200\n",
            "7/7 [==============================] - 2s 313ms/step - loss: 1.7373 - accuracy: 0.3653 - val_loss: 2.1506 - val_accuracy: 0.2475\n",
            "Epoch 36/200\n",
            "7/7 [==============================] - 2s 312ms/step - loss: 1.7345 - accuracy: 0.3938 - val_loss: 2.6550 - val_accuracy: 0.1683\n",
            "Epoch 37/200\n",
            "7/7 [==============================] - 2s 314ms/step - loss: 1.8873 - accuracy: 0.3575 - val_loss: 2.7016 - val_accuracy: 0.2079\n",
            "Epoch 38/200\n",
            "7/7 [==============================] - 2s 314ms/step - loss: 1.7052 - accuracy: 0.4171 - val_loss: 2.6466 - val_accuracy: 0.2178\n",
            "Epoch 39/200\n",
            "7/7 [==============================] - 2s 314ms/step - loss: 1.7541 - accuracy: 0.4249 - val_loss: 2.8329 - val_accuracy: 0.2178\n",
            "Epoch 40/200\n",
            "7/7 [==============================] - 2s 312ms/step - loss: 1.8352 - accuracy: 0.3886 - val_loss: 2.3583 - val_accuracy: 0.2079\n",
            "Epoch 41/200\n",
            "7/7 [==============================] - 2s 312ms/step - loss: 1.7177 - accuracy: 0.4119 - val_loss: 2.1362 - val_accuracy: 0.2277\n",
            "Epoch 42/200\n",
            "7/7 [==============================] - 2s 314ms/step - loss: 1.6005 - accuracy: 0.4689 - val_loss: 2.3776 - val_accuracy: 0.2079\n",
            "Epoch 43/200\n",
            "7/7 [==============================] - 2s 314ms/step - loss: 1.7694 - accuracy: 0.4093 - val_loss: 2.1109 - val_accuracy: 0.2772\n",
            "Epoch 44/200\n",
            "7/7 [==============================] - 2s 312ms/step - loss: 1.5170 - accuracy: 0.5052 - val_loss: 2.4839 - val_accuracy: 0.1683\n",
            "Epoch 45/200\n",
            "7/7 [==============================] - 2s 316ms/step - loss: 1.6957 - accuracy: 0.4197 - val_loss: 1.9384 - val_accuracy: 0.2970\n",
            "Epoch 46/200\n",
            "7/7 [==============================] - 2s 313ms/step - loss: 1.5345 - accuracy: 0.4974 - val_loss: 2.8159 - val_accuracy: 0.1782\n",
            "Epoch 47/200\n",
            "7/7 [==============================] - 2s 311ms/step - loss: 1.8411 - accuracy: 0.3731 - val_loss: 1.9542 - val_accuracy: 0.2970\n",
            "Epoch 48/200\n",
            "7/7 [==============================] - 2s 310ms/step - loss: 1.5313 - accuracy: 0.4534 - val_loss: 2.2220 - val_accuracy: 0.2673\n",
            "Epoch 49/200\n",
            "7/7 [==============================] - 2s 312ms/step - loss: 1.5350 - accuracy: 0.4845 - val_loss: 1.8589 - val_accuracy: 0.3267\n",
            "Epoch 50/200\n",
            "7/7 [==============================] - 2s 312ms/step - loss: 1.3680 - accuracy: 0.5570 - val_loss: 2.1403 - val_accuracy: 0.2079\n",
            "Epoch 51/200\n",
            "7/7 [==============================] - 2s 312ms/step - loss: 1.4489 - accuracy: 0.5052 - val_loss: 5.4035 - val_accuracy: 0.1188\n",
            "Epoch 52/200\n",
            "7/7 [==============================] - 2s 314ms/step - loss: 2.4542 - accuracy: 0.3316 - val_loss: 2.1125 - val_accuracy: 0.2772\n",
            "Epoch 53/200\n",
            "7/7 [==============================] - 2s 314ms/step - loss: 1.4962 - accuracy: 0.5026 - val_loss: 3.3833 - val_accuracy: 0.1485\n",
            "Epoch 54/200\n",
            "7/7 [==============================] - 2s 312ms/step - loss: 2.0484 - accuracy: 0.4249 - val_loss: 2.0828 - val_accuracy: 0.2871\n",
            "Epoch 55/200\n",
            "7/7 [==============================] - 2s 316ms/step - loss: 1.4162 - accuracy: 0.5648 - val_loss: 2.2496 - val_accuracy: 0.2574\n",
            "Epoch 56/200\n",
            "7/7 [==============================] - 2s 310ms/step - loss: 1.4621 - accuracy: 0.5492 - val_loss: 2.4417 - val_accuracy: 0.1683\n",
            "Epoch 57/200\n",
            "7/7 [==============================] - 2s 313ms/step - loss: 1.4661 - accuracy: 0.5440 - val_loss: 2.9855 - val_accuracy: 0.2079\n",
            "Epoch 58/200\n",
            "7/7 [==============================] - 2s 312ms/step - loss: 1.9102 - accuracy: 0.3782 - val_loss: 2.7078 - val_accuracy: 0.1980\n",
            "Epoch 59/200\n",
            "7/7 [==============================] - 2s 313ms/step - loss: 1.7443 - accuracy: 0.4430 - val_loss: 2.2099 - val_accuracy: 0.2673\n",
            "Epoch 60/200\n",
            "7/7 [==============================] - 2s 315ms/step - loss: 1.3720 - accuracy: 0.5492 - val_loss: 2.6246 - val_accuracy: 0.1980\n",
            "Epoch 61/200\n",
            "7/7 [==============================] - 2s 313ms/step - loss: 1.4874 - accuracy: 0.4922 - val_loss: 2.1656 - val_accuracy: 0.2277\n",
            "Epoch 62/200\n",
            "7/7 [==============================] - 2s 311ms/step - loss: 1.4038 - accuracy: 0.5337 - val_loss: 3.3241 - val_accuracy: 0.1386\n",
            "Epoch 63/200\n",
            "7/7 [==============================] - 2s 313ms/step - loss: 1.6093 - accuracy: 0.5285 - val_loss: 1.7041 - val_accuracy: 0.3366\n",
            "Epoch 64/200\n",
            "7/7 [==============================] - 2s 310ms/step - loss: 1.3100 - accuracy: 0.5829 - val_loss: 2.4568 - val_accuracy: 0.2574\n",
            "Epoch 65/200\n",
            "7/7 [==============================] - 2s 312ms/step - loss: 1.5808 - accuracy: 0.5155 - val_loss: 2.3930 - val_accuracy: 0.2475\n",
            "Epoch 66/200\n",
            "7/7 [==============================] - 2s 317ms/step - loss: 1.3662 - accuracy: 0.5674 - val_loss: 2.9098 - val_accuracy: 0.1485\n",
            "Epoch 67/200\n",
            "7/7 [==============================] - 2s 316ms/step - loss: 1.5624 - accuracy: 0.5544 - val_loss: 2.3714 - val_accuracy: 0.2574\n",
            "Epoch 68/200\n",
            "7/7 [==============================] - 2s 312ms/step - loss: 1.4009 - accuracy: 0.5803 - val_loss: 2.6667 - val_accuracy: 0.2277\n",
            "Epoch 69/200\n",
            "7/7 [==============================] - 2s 312ms/step - loss: 1.3859 - accuracy: 0.6244 - val_loss: 2.0266 - val_accuracy: 0.2871\n",
            "Epoch 70/200\n",
            "7/7 [==============================] - 3s 420ms/step - loss: 1.2441 - accuracy: 0.6244 - val_loss: 1.8088 - val_accuracy: 0.2772\n",
            "Epoch 71/200\n",
            "7/7 [==============================] - 2s 318ms/step - loss: 1.0975 - accuracy: 0.6995 - val_loss: 2.6547 - val_accuracy: 0.2178\n",
            "Epoch 72/200\n",
            "7/7 [==============================] - 2s 317ms/step - loss: 1.4527 - accuracy: 0.5155 - val_loss: 3.3927 - val_accuracy: 0.1485\n",
            "Epoch 73/200\n",
            "7/7 [==============================] - 2s 314ms/step - loss: 1.8216 - accuracy: 0.4275 - val_loss: 1.8054 - val_accuracy: 0.3069\n",
            "Epoch 74/200\n",
            "7/7 [==============================] - 3s 412ms/step - loss: 1.1322 - accuracy: 0.6554 - val_loss: 2.3939 - val_accuracy: 0.2475\n",
            "Epoch 75/200\n",
            "7/7 [==============================] - 2s 311ms/step - loss: 1.3145 - accuracy: 0.5570 - val_loss: 2.4465 - val_accuracy: 0.2475\n",
            "Epoch 76/200\n",
            "7/7 [==============================] - 2s 313ms/step - loss: 1.3019 - accuracy: 0.6062 - val_loss: 1.7090 - val_accuracy: 0.3663\n",
            "Epoch 77/200\n",
            "7/7 [==============================] - 2s 313ms/step - loss: 1.0116 - accuracy: 0.6969 - val_loss: 1.9870 - val_accuracy: 0.2970\n",
            "Epoch 78/200\n",
            "7/7 [==============================] - 2s 316ms/step - loss: 1.1497 - accuracy: 0.6684 - val_loss: 2.1514 - val_accuracy: 0.2574\n",
            "Epoch 79/200\n",
            "7/7 [==============================] - 2s 311ms/step - loss: 1.1646 - accuracy: 0.6451 - val_loss: 2.2616 - val_accuracy: 0.2376\n",
            "Epoch 80/200\n",
            "7/7 [==============================] - 2s 311ms/step - loss: 1.2127 - accuracy: 0.6295 - val_loss: 2.2235 - val_accuracy: 0.2475\n",
            "Epoch 81/200\n",
            "7/7 [==============================] - 2s 309ms/step - loss: 1.1886 - accuracy: 0.6321 - val_loss: 1.6907 - val_accuracy: 0.3960\n",
            "Epoch 82/200\n",
            "7/7 [==============================] - 2s 311ms/step - loss: 0.9791 - accuracy: 0.7565 - val_loss: 2.6211 - val_accuracy: 0.2673\n",
            "Epoch 83/200\n",
            "7/7 [==============================] - 2s 316ms/step - loss: 1.1453 - accuracy: 0.6684 - val_loss: 1.7450 - val_accuracy: 0.3168\n",
            "Epoch 84/200\n",
            "7/7 [==============================] - 2s 317ms/step - loss: 0.8925 - accuracy: 0.7642 - val_loss: 2.3721 - val_accuracy: 0.2772\n",
            "Epoch 85/200\n",
            "7/7 [==============================] - 2s 311ms/step - loss: 1.1475 - accuracy: 0.6425 - val_loss: 2.6478 - val_accuracy: 0.2772\n",
            "Epoch 86/200\n",
            "7/7 [==============================] - 2s 313ms/step - loss: 1.1107 - accuracy: 0.6528 - val_loss: 2.9841 - val_accuracy: 0.1881\n",
            "Epoch 87/200\n",
            "7/7 [==============================] - 2s 311ms/step - loss: 1.2856 - accuracy: 0.6218 - val_loss: 1.7762 - val_accuracy: 0.3663\n",
            "Epoch 88/200\n",
            "7/7 [==============================] - 2s 316ms/step - loss: 0.9591 - accuracy: 0.7150 - val_loss: 2.5476 - val_accuracy: 0.2772\n",
            "Epoch 89/200\n",
            "7/7 [==============================] - 2s 316ms/step - loss: 1.1731 - accuracy: 0.6606 - val_loss: 1.8258 - val_accuracy: 0.4158\n",
            "Epoch 90/200\n",
            "7/7 [==============================] - 2s 314ms/step - loss: 0.9408 - accuracy: 0.7383 - val_loss: 2.0231 - val_accuracy: 0.3069\n",
            "Epoch 91/200\n",
            "7/7 [==============================] - 2s 312ms/step - loss: 1.0112 - accuracy: 0.7150 - val_loss: 1.6461 - val_accuracy: 0.4059\n",
            "Epoch 92/200\n",
            "7/7 [==============================] - 2s 312ms/step - loss: 0.8354 - accuracy: 0.7591 - val_loss: 1.6983 - val_accuracy: 0.4158\n",
            "Epoch 93/200\n",
            "7/7 [==============================] - 2s 311ms/step - loss: 0.9813 - accuracy: 0.6891 - val_loss: 2.0897 - val_accuracy: 0.3267\n",
            "Epoch 94/200\n",
            "7/7 [==============================] - 2s 309ms/step - loss: 0.9499 - accuracy: 0.7280 - val_loss: 2.0509 - val_accuracy: 0.2970\n",
            "Epoch 95/200\n",
            "7/7 [==============================] - 2s 312ms/step - loss: 0.8963 - accuracy: 0.7358 - val_loss: 1.7495 - val_accuracy: 0.3564\n",
            "Epoch 96/200\n",
            "7/7 [==============================] - 2s 313ms/step - loss: 0.7403 - accuracy: 0.8031 - val_loss: 1.6055 - val_accuracy: 0.4356\n",
            "Epoch 97/200\n",
            "7/7 [==============================] - 2s 313ms/step - loss: 0.6818 - accuracy: 0.8342 - val_loss: 1.9621 - val_accuracy: 0.3861\n",
            "Epoch 98/200\n",
            "7/7 [==============================] - 2s 319ms/step - loss: 1.1004 - accuracy: 0.6658 - val_loss: 2.3037 - val_accuracy: 0.3267\n",
            "Epoch 99/200\n",
            "7/7 [==============================] - 2s 312ms/step - loss: 0.9331 - accuracy: 0.7565 - val_loss: 1.6253 - val_accuracy: 0.4257\n",
            "Epoch 100/200\n",
            "7/7 [==============================] - 2s 312ms/step - loss: 0.7093 - accuracy: 0.8342 - val_loss: 3.7738 - val_accuracy: 0.2178\n",
            "Epoch 101/200\n",
            "7/7 [==============================] - 2s 313ms/step - loss: 1.4501 - accuracy: 0.6166 - val_loss: 1.7710 - val_accuracy: 0.3960\n",
            "Epoch 102/200\n",
            "7/7 [==============================] - 2s 315ms/step - loss: 0.7321 - accuracy: 0.8005 - val_loss: 2.6095 - val_accuracy: 0.1980\n",
            "Epoch 103/200\n",
            "7/7 [==============================] - 2s 315ms/step - loss: 0.9697 - accuracy: 0.7098 - val_loss: 2.9914 - val_accuracy: 0.2574\n",
            "Epoch 104/200\n",
            "7/7 [==============================] - 2s 314ms/step - loss: 1.2062 - accuracy: 0.6684 - val_loss: 1.7129 - val_accuracy: 0.3663\n",
            "Epoch 105/200\n",
            "7/7 [==============================] - 2s 312ms/step - loss: 0.6670 - accuracy: 0.8264 - val_loss: 4.5759 - val_accuracy: 0.1386\n",
            "Epoch 106/200\n",
            "7/7 [==============================] - 2s 312ms/step - loss: 1.7845 - accuracy: 0.5130 - val_loss: 2.2271 - val_accuracy: 0.2475\n",
            "Epoch 107/200\n",
            "7/7 [==============================] - 2s 313ms/step - loss: 0.8933 - accuracy: 0.7358 - val_loss: 1.9277 - val_accuracy: 0.3267\n",
            "Epoch 108/200\n",
            "7/7 [==============================] - 2s 311ms/step - loss: 0.7494 - accuracy: 0.7850 - val_loss: 5.5729 - val_accuracy: 0.1980\n",
            "Epoch 109/200\n",
            "7/7 [==============================] - 2s 312ms/step - loss: 2.3722 - accuracy: 0.5000 - val_loss: 1.8344 - val_accuracy: 0.3069\n",
            "Epoch 110/200\n",
            "7/7 [==============================] - 2s 311ms/step - loss: 0.9059 - accuracy: 0.7953 - val_loss: 2.4704 - val_accuracy: 0.2079\n",
            "Epoch 111/200\n",
            "7/7 [==============================] - 2s 319ms/step - loss: 1.0316 - accuracy: 0.7280 - val_loss: 1.7784 - val_accuracy: 0.3861\n",
            "Epoch 112/200\n",
            "7/7 [==============================] - 2s 317ms/step - loss: 0.7108 - accuracy: 0.8342 - val_loss: 1.7932 - val_accuracy: 0.3168\n",
            "Epoch 113/200\n",
            "7/7 [==============================] - 2s 307ms/step - loss: 0.6153 - accuracy: 0.8705 - val_loss: 2.3129 - val_accuracy: 0.2673\n",
            "Epoch 114/200\n",
            "7/7 [==============================] - 2s 314ms/step - loss: 0.9377 - accuracy: 0.7176 - val_loss: 1.6597 - val_accuracy: 0.3762\n",
            "Epoch 115/200\n",
            "7/7 [==============================] - 2s 309ms/step - loss: 0.5607 - accuracy: 0.8679 - val_loss: 1.5949 - val_accuracy: 0.4356\n",
            "Epoch 116/200\n",
            "7/7 [==============================] - 2s 308ms/step - loss: 0.5366 - accuracy: 0.8782 - val_loss: 1.6392 - val_accuracy: 0.4356\n",
            "Epoch 117/200\n",
            "7/7 [==============================] - 2s 308ms/step - loss: 0.5238 - accuracy: 0.8653 - val_loss: 3.2937 - val_accuracy: 0.2475\n",
            "Epoch 118/200\n",
            "7/7 [==============================] - 2s 312ms/step - loss: 1.1101 - accuracy: 0.7176 - val_loss: 1.9306 - val_accuracy: 0.3663\n",
            "Epoch 119/200\n",
            "7/7 [==============================] - 2s 314ms/step - loss: 0.5724 - accuracy: 0.8472 - val_loss: 2.6033 - val_accuracy: 0.2178\n",
            "Epoch 120/200\n",
            "7/7 [==============================] - 2s 309ms/step - loss: 0.7460 - accuracy: 0.7824 - val_loss: 5.1838 - val_accuracy: 0.1980\n",
            "Epoch 121/200\n",
            "7/7 [==============================] - 2s 310ms/step - loss: 1.3949 - accuracy: 0.6710 - val_loss: 2.3989 - val_accuracy: 0.3168\n",
            "Epoch 122/200\n",
            "7/7 [==============================] - 2s 309ms/step - loss: 0.7136 - accuracy: 0.7927 - val_loss: 1.6556 - val_accuracy: 0.4059\n",
            "Epoch 123/200\n",
            "7/7 [==============================] - 2s 310ms/step - loss: 0.5009 - accuracy: 0.8731 - val_loss: 2.1121 - val_accuracy: 0.2871\n",
            "Epoch 124/200\n",
            "7/7 [==============================] - 2s 312ms/step - loss: 0.7116 - accuracy: 0.8057 - val_loss: 1.8564 - val_accuracy: 0.3663\n",
            "Epoch 125/200\n",
            "7/7 [==============================] - 2s 324ms/step - loss: 0.5019 - accuracy: 0.8886 - val_loss: 1.7862 - val_accuracy: 0.3960\n",
            "Epoch 126/200\n",
            "7/7 [==============================] - 2s 312ms/step - loss: 0.4739 - accuracy: 0.8990 - val_loss: 1.6589 - val_accuracy: 0.4257\n",
            "Epoch 127/200\n",
            "7/7 [==============================] - 2s 311ms/step - loss: 0.4467 - accuracy: 0.9301 - val_loss: 2.8239 - val_accuracy: 0.2475\n",
            "Epoch 128/200\n",
            "7/7 [==============================] - 2s 315ms/step - loss: 0.9813 - accuracy: 0.7513 - val_loss: 2.3039 - val_accuracy: 0.3069\n",
            "Epoch 129/200\n",
            "7/7 [==============================] - 2s 315ms/step - loss: 0.6623 - accuracy: 0.8368 - val_loss: 1.8206 - val_accuracy: 0.4356\n",
            "Epoch 130/200\n",
            "7/7 [==============================] - 2s 312ms/step - loss: 0.4507 - accuracy: 0.8990 - val_loss: 2.1672 - val_accuracy: 0.3168\n",
            "Epoch 131/200\n",
            "7/7 [==============================] - 2s 314ms/step - loss: 0.4931 - accuracy: 0.8912 - val_loss: 1.6488 - val_accuracy: 0.4653\n",
            "Epoch 132/200\n",
            "7/7 [==============================] - 2s 315ms/step - loss: 0.3943 - accuracy: 0.9171 - val_loss: 1.7329 - val_accuracy: 0.4257\n",
            "Epoch 133/200\n",
            "7/7 [==============================] - 2s 315ms/step - loss: 0.3740 - accuracy: 0.9223 - val_loss: 1.8334 - val_accuracy: 0.4455\n",
            "Epoch 134/200\n",
            "7/7 [==============================] - 2s 315ms/step - loss: 0.3837 - accuracy: 0.9275 - val_loss: 1.7561 - val_accuracy: 0.4455\n",
            "Epoch 135/200\n",
            "7/7 [==============================] - 2s 314ms/step - loss: 0.3591 - accuracy: 0.9326 - val_loss: 2.1500 - val_accuracy: 0.3564\n",
            "Epoch 136/200\n",
            "7/7 [==============================] - 2s 317ms/step - loss: 0.5974 - accuracy: 0.8264 - val_loss: 2.3549 - val_accuracy: 0.3564\n",
            "Epoch 137/200\n",
            "7/7 [==============================] - 2s 311ms/step - loss: 0.8287 - accuracy: 0.7694 - val_loss: 1.9187 - val_accuracy: 0.3663\n",
            "Epoch 138/200\n",
            "7/7 [==============================] - 2s 312ms/step - loss: 0.5318 - accuracy: 0.8834 - val_loss: 2.5845 - val_accuracy: 0.3168\n",
            "Epoch 139/200\n",
            "7/7 [==============================] - 2s 311ms/step - loss: 0.6859 - accuracy: 0.8005 - val_loss: 1.8207 - val_accuracy: 0.4455\n",
            "Epoch 140/200\n",
            "7/7 [==============================] - 2s 313ms/step - loss: 0.3689 - accuracy: 0.9326 - val_loss: 2.4301 - val_accuracy: 0.3663\n",
            "Epoch 141/200\n",
            "7/7 [==============================] - 2s 311ms/step - loss: 0.4543 - accuracy: 0.8912 - val_loss: 2.0152 - val_accuracy: 0.4158\n",
            "Epoch 142/200\n",
            "7/7 [==============================] - 2s 314ms/step - loss: 0.3658 - accuracy: 0.9223 - val_loss: 2.8969 - val_accuracy: 0.2475\n",
            "Epoch 143/200\n",
            "7/7 [==============================] - 2s 309ms/step - loss: 0.9748 - accuracy: 0.7383 - val_loss: 1.8171 - val_accuracy: 0.4158\n",
            "Epoch 144/200\n",
            "7/7 [==============================] - 2s 310ms/step - loss: 0.3593 - accuracy: 0.9119 - val_loss: 2.0358 - val_accuracy: 0.3168\n",
            "Epoch 145/200\n",
            "7/7 [==============================] - 2s 311ms/step - loss: 0.3757 - accuracy: 0.9171 - val_loss: 2.0182 - val_accuracy: 0.3960\n",
            "Epoch 146/200\n",
            "7/7 [==============================] - 2s 312ms/step - loss: 0.3312 - accuracy: 0.9352 - val_loss: 1.7546 - val_accuracy: 0.4257\n",
            "Epoch 147/200\n",
            "7/7 [==============================] - 2s 315ms/step - loss: 0.3001 - accuracy: 0.9456 - val_loss: 1.7618 - val_accuracy: 0.4356\n",
            "Epoch 148/200\n",
            "7/7 [==============================] - 2s 313ms/step - loss: 0.2882 - accuracy: 0.9482 - val_loss: 2.2470 - val_accuracy: 0.3465\n",
            "Epoch 149/200\n",
            "7/7 [==============================] - 2s 314ms/step - loss: 0.3311 - accuracy: 0.9275 - val_loss: 1.8658 - val_accuracy: 0.4356\n",
            "Epoch 150/200\n",
            "7/7 [==============================] - 2s 311ms/step - loss: 0.2785 - accuracy: 0.9508 - val_loss: 1.8813 - val_accuracy: 0.4059\n",
            "Epoch 151/200\n",
            "7/7 [==============================] - 2s 312ms/step - loss: 0.3085 - accuracy: 0.9326 - val_loss: 1.8148 - val_accuracy: 0.4554\n",
            "Epoch 152/200\n",
            "7/7 [==============================] - 2s 322ms/step - loss: 0.2615 - accuracy: 0.9534 - val_loss: 2.1052 - val_accuracy: 0.3861\n",
            "Epoch 153/200\n",
            "7/7 [==============================] - 2s 309ms/step - loss: 0.2873 - accuracy: 0.9404 - val_loss: 1.8522 - val_accuracy: 0.4653\n",
            "Epoch 154/200\n",
            "7/7 [==============================] - 2s 315ms/step - loss: 0.2576 - accuracy: 0.9482 - val_loss: 1.8654 - val_accuracy: 0.4257\n",
            "Epoch 155/200\n",
            "7/7 [==============================] - 2s 309ms/step - loss: 0.2430 - accuracy: 0.9534 - val_loss: 2.0487 - val_accuracy: 0.4257\n",
            "Epoch 156/200\n",
            "7/7 [==============================] - 2s 311ms/step - loss: 0.2511 - accuracy: 0.9508 - val_loss: 1.8838 - val_accuracy: 0.4257\n",
            "Epoch 157/200\n",
            "7/7 [==============================] - 2s 314ms/step - loss: 0.2434 - accuracy: 0.9534 - val_loss: 2.0991 - val_accuracy: 0.3960\n",
            "Epoch 158/200\n",
            "7/7 [==============================] - 2s 333ms/step - loss: 0.3799 - accuracy: 0.9067 - val_loss: 1.8031 - val_accuracy: 0.4158\n",
            "Epoch 159/200\n",
            "7/7 [==============================] - 2s 312ms/step - loss: 0.2305 - accuracy: 0.9560 - val_loss: 4.9389 - val_accuracy: 0.2475\n",
            "Epoch 160/200\n",
            "7/7 [==============================] - 2s 308ms/step - loss: 2.9342 - accuracy: 0.4016 - val_loss: 2.2809 - val_accuracy: 0.2574\n",
            "Epoch 161/200\n",
            "7/7 [==============================] - 2s 307ms/step - loss: 1.0067 - accuracy: 0.7280 - val_loss: 2.1753 - val_accuracy: 0.2970\n",
            "Epoch 162/200\n",
            "7/7 [==============================] - 2s 306ms/step - loss: 0.7023 - accuracy: 0.8290 - val_loss: 1.7006 - val_accuracy: 0.4356\n",
            "Epoch 163/200\n",
            "7/7 [==============================] - 2s 306ms/step - loss: 0.4063 - accuracy: 0.9352 - val_loss: 1.8197 - val_accuracy: 0.4356\n",
            "Epoch 164/200\n",
            "7/7 [==============================] - 2s 316ms/step - loss: 0.3437 - accuracy: 0.9456 - val_loss: 2.1658 - val_accuracy: 0.3564\n",
            "Epoch 165/200\n",
            "7/7 [==============================] - 2s 312ms/step - loss: 0.3861 - accuracy: 0.9119 - val_loss: 3.5909 - val_accuracy: 0.1881\n",
            "Epoch 166/200\n",
            "7/7 [==============================] - 2s 311ms/step - loss: 0.7501 - accuracy: 0.8135 - val_loss: 1.7862 - val_accuracy: 0.4356\n",
            "Epoch 167/200\n",
            "7/7 [==============================] - 2s 307ms/step - loss: 0.2873 - accuracy: 0.9534 - val_loss: 1.8237 - val_accuracy: 0.4158\n",
            "Epoch 168/200\n",
            "7/7 [==============================] - 2s 315ms/step - loss: 0.2556 - accuracy: 0.9534 - val_loss: 1.8722 - val_accuracy: 0.4158\n",
            "Epoch 169/200\n",
            "7/7 [==============================] - 2s 311ms/step - loss: 0.2385 - accuracy: 0.9560 - val_loss: 2.0910 - val_accuracy: 0.3960\n",
            "Epoch 170/200\n",
            "7/7 [==============================] - 2s 313ms/step - loss: 0.2357 - accuracy: 0.9534 - val_loss: 2.1448 - val_accuracy: 0.4158\n",
            "Epoch 171/200\n",
            "7/7 [==============================] - 2s 319ms/step - loss: 0.2682 - accuracy: 0.9430 - val_loss: 3.0655 - val_accuracy: 0.2673\n",
            "Epoch 172/200\n",
            "7/7 [==============================] - 2s 312ms/step - loss: 0.3187 - accuracy: 0.9171 - val_loss: 1.9601 - val_accuracy: 0.4158\n",
            "Epoch 173/200\n",
            "7/7 [==============================] - 2s 307ms/step - loss: 0.2115 - accuracy: 0.9637 - val_loss: 1.8313 - val_accuracy: 0.4554\n",
            "Epoch 174/200\n",
            "7/7 [==============================] - 2s 312ms/step - loss: 0.1992 - accuracy: 0.9611 - val_loss: 1.9038 - val_accuracy: 0.4455\n",
            "Epoch 175/200\n",
            "7/7 [==============================] - 2s 312ms/step - loss: 0.1929 - accuracy: 0.9689 - val_loss: 2.0813 - val_accuracy: 0.4257\n",
            "Epoch 176/200\n",
            "7/7 [==============================] - 2s 312ms/step - loss: 0.1922 - accuracy: 0.9689 - val_loss: 1.9056 - val_accuracy: 0.4455\n",
            "Epoch 177/200\n",
            "7/7 [==============================] - 2s 312ms/step - loss: 0.1798 - accuracy: 0.9715 - val_loss: 2.0029 - val_accuracy: 0.4455\n",
            "Epoch 178/200\n",
            "7/7 [==============================] - 2s 311ms/step - loss: 0.1770 - accuracy: 0.9715 - val_loss: 2.0417 - val_accuracy: 0.4455\n",
            "Epoch 179/200\n",
            "7/7 [==============================] - 2s 318ms/step - loss: 0.1733 - accuracy: 0.9715 - val_loss: 1.9868 - val_accuracy: 0.4653\n",
            "Epoch 180/200\n",
            "7/7 [==============================] - 2s 305ms/step - loss: 0.1671 - accuracy: 0.9715 - val_loss: 1.9895 - val_accuracy: 0.4554\n",
            "Epoch 181/200\n",
            "7/7 [==============================] - 2s 312ms/step - loss: 0.1654 - accuracy: 0.9715 - val_loss: 1.9895 - val_accuracy: 0.4653\n",
            "Epoch 182/200\n",
            "7/7 [==============================] - 2s 312ms/step - loss: 0.1608 - accuracy: 0.9715 - val_loss: 1.9678 - val_accuracy: 0.4455\n",
            "Epoch 183/200\n",
            "7/7 [==============================] - 2s 315ms/step - loss: 0.1605 - accuracy: 0.9689 - val_loss: 2.1354 - val_accuracy: 0.3960\n",
            "Epoch 184/200\n",
            "7/7 [==============================] - 2s 312ms/step - loss: 0.1708 - accuracy: 0.9715 - val_loss: 2.0863 - val_accuracy: 0.4455\n",
            "Epoch 185/200\n",
            "7/7 [==============================] - 2s 315ms/step - loss: 0.1665 - accuracy: 0.9663 - val_loss: 2.1301 - val_accuracy: 0.4356\n",
            "Epoch 186/200\n",
            "7/7 [==============================] - 2s 314ms/step - loss: 0.1662 - accuracy: 0.9715 - val_loss: 5.3477 - val_accuracy: 0.1881\n",
            "Epoch 187/200\n",
            "7/7 [==============================] - 2s 312ms/step - loss: 2.6154 - accuracy: 0.5155 - val_loss: 1.9279 - val_accuracy: 0.3960\n",
            "Epoch 188/200\n",
            "7/7 [==============================] - 2s 311ms/step - loss: 0.5161 - accuracy: 0.8964 - val_loss: 1.7940 - val_accuracy: 0.4356\n",
            "Epoch 189/200\n",
            "7/7 [==============================] - 2s 312ms/step - loss: 0.3058 - accuracy: 0.9611 - val_loss: 7.3733 - val_accuracy: 0.1584\n",
            "Epoch 190/200\n",
            "7/7 [==============================] - 2s 312ms/step - loss: 2.1099 - accuracy: 0.5803 - val_loss: 2.4585 - val_accuracy: 0.2475\n",
            "Epoch 191/200\n",
            "7/7 [==============================] - 2s 320ms/step - loss: 0.6208 - accuracy: 0.8756 - val_loss: 2.0941 - val_accuracy: 0.3960\n",
            "Epoch 192/200\n",
            "7/7 [==============================] - 2s 307ms/step - loss: 0.3455 - accuracy: 0.9378 - val_loss: 1.7966 - val_accuracy: 0.4653\n",
            "Epoch 193/200\n",
            "7/7 [==============================] - 2s 315ms/step - loss: 0.2723 - accuracy: 0.9637 - val_loss: 2.1421 - val_accuracy: 0.3762\n",
            "Epoch 194/200\n",
            "7/7 [==============================] - 2s 316ms/step - loss: 0.2831 - accuracy: 0.9430 - val_loss: 1.9912 - val_accuracy: 0.4059\n",
            "Epoch 195/200\n",
            "7/7 [==============================] - 2s 316ms/step - loss: 0.2296 - accuracy: 0.9585 - val_loss: 1.8105 - val_accuracy: 0.4059\n",
            "Epoch 196/200\n",
            "7/7 [==============================] - 2s 317ms/step - loss: 0.1934 - accuracy: 0.9689 - val_loss: 1.8627 - val_accuracy: 0.4257\n",
            "Epoch 197/200\n",
            "7/7 [==============================] - 2s 319ms/step - loss: 0.1802 - accuracy: 0.9715 - val_loss: 2.4526 - val_accuracy: 0.3267\n",
            "Epoch 198/200\n",
            "7/7 [==============================] - 2s 317ms/step - loss: 0.2870 - accuracy: 0.9275 - val_loss: 2.0413 - val_accuracy: 0.3663\n",
            "Epoch 199/200\n",
            "7/7 [==============================] - 2s 314ms/step - loss: 0.2172 - accuracy: 0.9637 - val_loss: 2.0001 - val_accuracy: 0.3960\n",
            "Epoch 200/200\n",
            "7/7 [==============================] - 2s 318ms/step - loss: 0.1743 - accuracy: 0.9767 - val_loss: 1.9027 - val_accuracy: 0.4554\n"
          ]
        },
        {
          "output_type": "display_data",
          "data": {
            "text/plain": [
              "         loss  accuracy  val_loss  val_accuracy\n",
              "0    2.699580  0.111399  2.402200      0.108911\n",
              "1    2.364936  0.134715  2.462369      0.158416\n",
              "2    2.312752  0.158031  2.410231      0.128713\n",
              "3    2.265060  0.165803  2.312444      0.188119\n",
              "4    2.220962  0.183938  2.307105      0.089109\n",
              "..        ...       ...       ...           ...\n",
              "195  0.193367  0.968912  1.862717      0.425743\n",
              "196  0.180174  0.971503  2.452587      0.326733\n",
              "197  0.287047  0.927461  2.041260      0.366337\n",
              "198  0.217189  0.963731  2.000116      0.396040\n",
              "199  0.174299  0.976684  1.902692      0.455446\n",
              "\n",
              "[200 rows x 4 columns]"
            ],
            "text/html": [
              "\n",
              "  <div id=\"df-2bcd2409-06ba-4c3b-8dbe-057252f24e48\">\n",
              "    <div class=\"colab-df-container\">\n",
              "      <div>\n",
              "<style scoped>\n",
              "    .dataframe tbody tr th:only-of-type {\n",
              "        vertical-align: middle;\n",
              "    }\n",
              "\n",
              "    .dataframe tbody tr th {\n",
              "        vertical-align: top;\n",
              "    }\n",
              "\n",
              "    .dataframe thead th {\n",
              "        text-align: right;\n",
              "    }\n",
              "</style>\n",
              "<table border=\"1\" class=\"dataframe\">\n",
              "  <thead>\n",
              "    <tr style=\"text-align: right;\">\n",
              "      <th></th>\n",
              "      <th>loss</th>\n",
              "      <th>accuracy</th>\n",
              "      <th>val_loss</th>\n",
              "      <th>val_accuracy</th>\n",
              "    </tr>\n",
              "  </thead>\n",
              "  <tbody>\n",
              "    <tr>\n",
              "      <th>0</th>\n",
              "      <td>2.699580</td>\n",
              "      <td>0.111399</td>\n",
              "      <td>2.402200</td>\n",
              "      <td>0.108911</td>\n",
              "    </tr>\n",
              "    <tr>\n",
              "      <th>1</th>\n",
              "      <td>2.364936</td>\n",
              "      <td>0.134715</td>\n",
              "      <td>2.462369</td>\n",
              "      <td>0.158416</td>\n",
              "    </tr>\n",
              "    <tr>\n",
              "      <th>2</th>\n",
              "      <td>2.312752</td>\n",
              "      <td>0.158031</td>\n",
              "      <td>2.410231</td>\n",
              "      <td>0.128713</td>\n",
              "    </tr>\n",
              "    <tr>\n",
              "      <th>3</th>\n",
              "      <td>2.265060</td>\n",
              "      <td>0.165803</td>\n",
              "      <td>2.312444</td>\n",
              "      <td>0.188119</td>\n",
              "    </tr>\n",
              "    <tr>\n",
              "      <th>4</th>\n",
              "      <td>2.220962</td>\n",
              "      <td>0.183938</td>\n",
              "      <td>2.307105</td>\n",
              "      <td>0.089109</td>\n",
              "    </tr>\n",
              "    <tr>\n",
              "      <th>...</th>\n",
              "      <td>...</td>\n",
              "      <td>...</td>\n",
              "      <td>...</td>\n",
              "      <td>...</td>\n",
              "    </tr>\n",
              "    <tr>\n",
              "      <th>195</th>\n",
              "      <td>0.193367</td>\n",
              "      <td>0.968912</td>\n",
              "      <td>1.862717</td>\n",
              "      <td>0.425743</td>\n",
              "    </tr>\n",
              "    <tr>\n",
              "      <th>196</th>\n",
              "      <td>0.180174</td>\n",
              "      <td>0.971503</td>\n",
              "      <td>2.452587</td>\n",
              "      <td>0.326733</td>\n",
              "    </tr>\n",
              "    <tr>\n",
              "      <th>197</th>\n",
              "      <td>0.287047</td>\n",
              "      <td>0.927461</td>\n",
              "      <td>2.041260</td>\n",
              "      <td>0.366337</td>\n",
              "    </tr>\n",
              "    <tr>\n",
              "      <th>198</th>\n",
              "      <td>0.217189</td>\n",
              "      <td>0.963731</td>\n",
              "      <td>2.000116</td>\n",
              "      <td>0.396040</td>\n",
              "    </tr>\n",
              "    <tr>\n",
              "      <th>199</th>\n",
              "      <td>0.174299</td>\n",
              "      <td>0.976684</td>\n",
              "      <td>1.902692</td>\n",
              "      <td>0.455446</td>\n",
              "    </tr>\n",
              "  </tbody>\n",
              "</table>\n",
              "<p>200 rows × 4 columns</p>\n",
              "</div>\n",
              "      <button class=\"colab-df-convert\" onclick=\"convertToInteractive('df-2bcd2409-06ba-4c3b-8dbe-057252f24e48')\"\n",
              "              title=\"Convert this dataframe to an interactive table.\"\n",
              "              style=\"display:none;\">\n",
              "        \n",
              "  <svg xmlns=\"http://www.w3.org/2000/svg\" height=\"24px\"viewBox=\"0 0 24 24\"\n",
              "       width=\"24px\">\n",
              "    <path d=\"M0 0h24v24H0V0z\" fill=\"none\"/>\n",
              "    <path d=\"M18.56 5.44l.94 2.06.94-2.06 2.06-.94-2.06-.94-.94-2.06-.94 2.06-2.06.94zm-11 1L8.5 8.5l.94-2.06 2.06-.94-2.06-.94L8.5 2.5l-.94 2.06-2.06.94zm10 10l.94 2.06.94-2.06 2.06-.94-2.06-.94-.94-2.06-.94 2.06-2.06.94z\"/><path d=\"M17.41 7.96l-1.37-1.37c-.4-.4-.92-.59-1.43-.59-.52 0-1.04.2-1.43.59L10.3 9.45l-7.72 7.72c-.78.78-.78 2.05 0 2.83L4 21.41c.39.39.9.59 1.41.59.51 0 1.02-.2 1.41-.59l7.78-7.78 2.81-2.81c.8-.78.8-2.07 0-2.86zM5.41 20L4 18.59l7.72-7.72 1.47 1.35L5.41 20z\"/>\n",
              "  </svg>\n",
              "      </button>\n",
              "      \n",
              "  <style>\n",
              "    .colab-df-container {\n",
              "      display:flex;\n",
              "      flex-wrap:wrap;\n",
              "      gap: 12px;\n",
              "    }\n",
              "\n",
              "    .colab-df-convert {\n",
              "      background-color: #E8F0FE;\n",
              "      border: none;\n",
              "      border-radius: 50%;\n",
              "      cursor: pointer;\n",
              "      display: none;\n",
              "      fill: #1967D2;\n",
              "      height: 32px;\n",
              "      padding: 0 0 0 0;\n",
              "      width: 32px;\n",
              "    }\n",
              "\n",
              "    .colab-df-convert:hover {\n",
              "      background-color: #E2EBFA;\n",
              "      box-shadow: 0px 1px 2px rgba(60, 64, 67, 0.3), 0px 1px 3px 1px rgba(60, 64, 67, 0.15);\n",
              "      fill: #174EA6;\n",
              "    }\n",
              "\n",
              "    [theme=dark] .colab-df-convert {\n",
              "      background-color: #3B4455;\n",
              "      fill: #D2E3FC;\n",
              "    }\n",
              "\n",
              "    [theme=dark] .colab-df-convert:hover {\n",
              "      background-color: #434B5C;\n",
              "      box-shadow: 0px 1px 3px 1px rgba(0, 0, 0, 0.15);\n",
              "      filter: drop-shadow(0px 1px 2px rgba(0, 0, 0, 0.3));\n",
              "      fill: #FFFFFF;\n",
              "    }\n",
              "  </style>\n",
              "\n",
              "      <script>\n",
              "        const buttonEl =\n",
              "          document.querySelector('#df-2bcd2409-06ba-4c3b-8dbe-057252f24e48 button.colab-df-convert');\n",
              "        buttonEl.style.display =\n",
              "          google.colab.kernel.accessAllowed ? 'block' : 'none';\n",
              "\n",
              "        async function convertToInteractive(key) {\n",
              "          const element = document.querySelector('#df-2bcd2409-06ba-4c3b-8dbe-057252f24e48');\n",
              "          const dataTable =\n",
              "            await google.colab.kernel.invokeFunction('convertToInteractive',\n",
              "                                                     [key], {});\n",
              "          if (!dataTable) return;\n",
              "\n",
              "          const docLinkHtml = 'Like what you see? Visit the ' +\n",
              "            '<a target=\"_blank\" href=https://colab.research.google.com/notebooks/data_table.ipynb>data table notebook</a>'\n",
              "            + ' to learn more about interactive tables.';\n",
              "          element.innerHTML = '';\n",
              "          dataTable['output_type'] = 'display_data';\n",
              "          await google.colab.output.renderOutput(dataTable, element);\n",
              "          const docLink = document.createElement('div');\n",
              "          docLink.innerHTML = docLinkHtml;\n",
              "          element.appendChild(docLink);\n",
              "        }\n",
              "      </script>\n",
              "    </div>\n",
              "  </div>\n",
              "  "
            ]
          },
          "metadata": {}
        }
      ]
    },
    {
      "cell_type": "code",
      "source": [
        "from sklearn.metrics import accuracy_score\n",
        "\n",
        "y_pred = model.predict(x_test)\n",
        "y_pred = np.argmax(y_pred, axis=1)\n",
        "print(y_pred)\n",
        "print('Predictions: ', y_pred)\n",
        "print('Actual: ', y_test)\n",
        "print(accuracy_score(y_pred, y_test))"
      ],
      "metadata": {
        "id": "RxC3BUItj2yl",
        "colab": {
          "base_uri": "https://localhost:8080/"
        },
        "outputId": "3b3ec9b5-7cfa-450e-e46b-38d0fe938a6d"
      },
      "execution_count": 14,
      "outputs": [
        {
          "output_type": "stream",
          "name": "stdout",
          "text": [
            "4/4 [==============================] - 0s 34ms/step\n",
            "[7 4 0 0 0 0 4 3 0 0 4 9 0 0 0 0 0 0 0 0 7 1 2 1 5 7 2 7 7 7 1 1 2 2 2 8 0\n",
            " 2 1 7 7 2 8 0 3 0 5 3 3 0 6 3 4 4 5 5 7 4 5 4 4 2 1 5 6 4 8 0 6 7 0 9 7 6\n",
            " 8 3 6 4 9 2 2 6 7 1 6 5 8 8 8 8 5 8 8 5 9 9 9 6 2 9 7]\n",
            "Predictions:  [7 4 0 0 0 0 4 3 0 0 4 9 0 0 0 0 0 0 0 0 7 1 2 1 5 7 2 7 7 7 1 1 2 2 2 8 0\n",
            " 2 1 7 7 2 8 0 3 0 5 3 3 0 6 3 4 4 5 5 7 4 5 4 4 2 1 5 6 4 8 0 6 7 0 9 7 6\n",
            " 8 3 6 4 9 2 2 6 7 1 6 5 8 8 8 8 5 8 8 5 9 9 9 6 2 9 7]\n",
            "Actual:  [0 0 0 0 0 0 0 0 0 0 0 0 0 0 0 0 0 0 0 0 1 1 1 1 1 1 1 1 1 1 1 1 2 2 2 2 2\n",
            " 2 2 2 2 2 3 3 3 3 3 3 3 3 3 3 4 4 4 4 4 4 4 4 4 5 5 5 5 5 5 5 5 6 6 6 6 6\n",
            " 6 6 6 7 7 7 7 7 7 7 7 8 8 8 8 8 8 8 8 9 9 9 9 9 9 9 9]\n",
            "0.45544554455445546\n"
          ]
        }
      ]
    },
    {
      "cell_type": "markdown",
      "source": [
        "##Exercises:\n",
        "\n",
        "1. Identify 5 songs that were misclassified and play them\n",
        "2. Print the confusion matrix for the model's predictions\n",
        "3. Play around with the model and tweak it. Add layers/remove layers, tweak hyperparameters etc. Write about some of the things that you notice from this experience\n"
      ],
      "metadata": {
        "id": "rloQUkYeg8t1"
      }
    },
    {
      "cell_type": "code",
      "source": [
        "# First problem\n",
        "\n",
        "# Function to play track of game. Reguires the game id and the track number\n",
        "def play_track(game_id, game_track):\n",
        "  tracks = game_tracks[game_id]\n",
        "  single_track = note_seq.midi_file_to_note_sequence(midi_train_path + \"/\" + tracks[game_track])\n",
        "  print(f'Track Name: {tracks[game_track]}')\n",
        "  note_seq.play_sequence(single_track)\n",
        "\n",
        "# Songs misidentified:\n",
        "misidentified = [0, 1, 6, 7, 10]\n",
        "\n",
        "for miss in misidentified:\n",
        "  print('test_game_tracks[miss]', test_game_tracks[miss])\n",
        "  print('test_game_tracks[miss][0]', test_game_tracks[miss][0])\n",
        "  play_track(test_game_tracks[miss][0], test_game_tracks[miss][1])"
      ],
      "metadata": {
        "id": "sxDPTKb-stZn",
        "colab": {
          "base_uri": "https://localhost:8080/",
          "height": 567
        },
        "outputId": "518c19a9-9a56-49f1-831c-04c43230ec2f"
      },
      "execution_count": 15,
      "outputs": [
        {
          "output_type": "stream",
          "name": "stdout",
          "text": [
            "test_game_tracks[miss] ('135', 79)\n",
            "test_game_tracks[miss][0] 135\n",
            "Track Name: 135_GanbareGoemonGaiden2_TenkanoZaih__85_86MoonMap.mid\n"
          ]
        },
        {
          "output_type": "display_data",
          "data": {
            "text/plain": [
              "<IPython.core.display.HTML object>"
            ],
            "text/html": [
              "<div id=\"id_5\"> </div>"
            ]
          },
          "metadata": {}
        },
        {
          "output_type": "stream",
          "name": "stdout",
          "text": [
            "test_game_tracks[miss] ('135', 80)\n",
            "test_game_tracks[miss][0] 135\n",
            "Track Name: 135_GanbareGoemonGaiden2_TenkanoZaih__98_99Fanfare.mid\n"
          ]
        },
        {
          "output_type": "display_data",
          "data": {
            "text/plain": [
              "<IPython.core.display.HTML object>"
            ],
            "text/html": [
              "<div id=\"id_6\"> </div>"
            ]
          },
          "metadata": {}
        },
        {
          "output_type": "stream",
          "name": "stdout",
          "text": [
            "test_game_tracks[miss] ('135', 85)\n",
            "test_game_tracks[miss][0] 135\n",
            "Track Name: 135_GanbareGoemonGaiden2_TenkanoZaih__67_68BurningSamba.mid\n"
          ]
        },
        {
          "output_type": "display_data",
          "data": {
            "text/plain": [
              "<IPython.core.display.HTML object>"
            ],
            "text/html": [
              "<div id=\"id_7\"> </div>"
            ]
          },
          "metadata": {}
        },
        {
          "output_type": "stream",
          "name": "stdout",
          "text": [
            "test_game_tracks[miss] ('135', 86)\n",
            "test_game_tracks[miss][0] 135\n",
            "Track Name: 135_GanbareGoemonGaiden2_TenkanoZaih__18_19LargeMap.mid\n"
          ]
        },
        {
          "output_type": "display_data",
          "data": {
            "text/plain": [
              "<IPython.core.display.HTML object>"
            ],
            "text/html": [
              "<div id=\"id_8\"> </div>"
            ]
          },
          "metadata": {}
        },
        {
          "output_type": "stream",
          "name": "stdout",
          "text": [
            "test_game_tracks[miss] ('135', 89)\n",
            "test_game_tracks[miss][0] 135\n",
            "Track Name: 135_GanbareGoemonGaiden2_TenkanoZaih__97_98GradiusCoinSound.mid\n"
          ]
        },
        {
          "output_type": "display_data",
          "data": {
            "text/plain": [
              "<IPython.core.display.HTML object>"
            ],
            "text/html": [
              "<div id=\"id_9\"> </div>"
            ]
          },
          "metadata": {}
        }
      ]
    },
    {
      "cell_type": "code",
      "source": [
        "# Second problem\n",
        "from sklearn.metrics import confusion_matrix\n",
        "cm = confusion_matrix(y_test, y_pred)\n",
        "\n",
        "import seaborn as sns\n",
        "sns.heatmap(cm, annot=True)"
      ],
      "metadata": {
        "colab": {
          "base_uri": "https://localhost:8080/",
          "height": 289
        },
        "id": "1bvvpSQKvnt7",
        "outputId": "b386dfb0-3603-40f7-addd-76c62c63364d"
      },
      "execution_count": 16,
      "outputs": [
        {
          "output_type": "execute_result",
          "data": {
            "text/plain": [
              "<AxesSubplot:>"
            ]
          },
          "metadata": {},
          "execution_count": 16
        },
        {
          "output_type": "display_data",
          "data": {
            "text/plain": [
              "<Figure size 432x288 with 2 Axes>"
            ],
            "image/png": "[encoded data removed]"
          },
          "metadata": {}
        }
      ]
    },
    {
      "cell_type": "markdown",
      "source": [
        "## Third problem\n",
        "Before:\n",
        "- Accuracy on training data: 100%\n",
        "- Accuracy on validation data: 42%\n",
        "\n",
        "\n",
        "### Experiment 1\n",
        "Hyperparameter tunning (will keep 200 epochs):\n",
        "- Changed 1st Conv1d layer 32 -> 64 filters\n",
        "- Changed 2nd Conv1d layer 32 -> 64 filters\n",
        "- Changed Dense layer units 512 -> 1024 filters\n",
        "\n",
        "Results:\n",
        "- Accuracy on training data: 100%\n",
        "- Accuracy on validation data: 34%\n",
        "\n",
        "Reasoning:\n",
        "- There are twice as many parameters to train so maybe that's why it takes more time to get better results\n",
        "- If num_epochs is increased, my hypothesis is that validation accuracy will increase more than 42%\n",
        "\n",
        "### Experiment 2\n",
        "Hyperparameter tunning (will keep 200 epochs):\n",
        "- Changed 1st Conv1d layer 32 -> 16 filters\n",
        "- Changed 2nd Conv1d layer 32 -> 16 filters\n",
        "- Changed 1st Conv1d layer 32 -> 16 filters\n",
        "- Changed 2nd Conv1d layer 64 -> 16 filters\n",
        "\n",
        "Results:\n",
        "- Accuracy on training data: 86%\n",
        "- Accuracy on validation data: 30%\n",
        "\n",
        "Reasoning:\n",
        "- There are less parameters to train. The accuracy didn't match the previous. \n",
        "\n",
        "### Experiment 3\n",
        "Hyperparameter tunning (will keep 200 epochs):\n",
        "- Max pooling 4 -> 8\n",
        "\n",
        "Results:\n",
        "- Accuracy on training data: 86%\n",
        "- Accuracy on validation data: 30%\n",
        "\n",
        "### Experiment 4\n",
        "- Added extra Conv1d layer 64 filters\n",
        "- Added activation layer -> relu\n",
        "\n",
        "\n",
        "Results:\n",
        "- Accuracy on training data: 98%\n",
        "- Accuracy on validation data: 44%\n",
        "\n",
        "Reasoning:\n",
        "- Note this way accuracy is better and training data accuracy is not perfect like before.\n",
        "- Better accuracy less overfitty\n",
        "\n",
        "### Experiment 5\n",
        "Added based on Experiment 4\n",
        "- Added extra Conv1d layer 64 filters\n",
        "- Added activation layer -> relu\n",
        "\n",
        "\n",
        "Results:\n",
        "- Accuracy on training data: 97%\n",
        "- Accuracy on validation data: 45%\n",
        "\n",
        "Reasoning:\n",
        "- This is even better than Experiment 4. With an extra layer there are more parameters to train, so overfitting is not that bad.\n",
        "- Notice that Training accuracy 98 -> 97\n",
        "- Validation accuracy 44 -> 45"
      ],
      "metadata": {
        "id": "muop-1ROyiU0"
      }
    },
    {
      "cell_type": "code",
      "source": [],
      "metadata": {
        "id": "imQ1D75F0Ust"
      },
      "execution_count": 16,
      "outputs": []
    }
  ]
}
